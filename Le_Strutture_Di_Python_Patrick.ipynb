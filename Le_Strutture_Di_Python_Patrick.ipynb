{
 "cells": [
  {
   "cell_type": "markdown",
   "id": "59af8208",
   "metadata": {},
   "source": [
    "# Le strutture di Python"
   ]
  },
  {
   "cell_type": "markdown",
   "id": "a9757efb",
   "metadata": {},
   "source": [
    "Benvenuto! In questo notebook analizzeremo le strutture di python prima spiegandole e poi svolgendo dei codici per capirli meglio. Tra le strutture più fondamentali di Python chiaramente troviamo la lista, la tupla, il dizionario, il set(insieme), le stringhe, le strutture di controllo e le funzioni. Spero ti sia utile, sentiti libero di esplorare!"
   ]
  },
  {
   "cell_type": "markdown",
   "id": "27d3ee2b",
   "metadata": {},
   "source": [
    "### Le liste\n",
    "\n",
    "Le liste sono delle raccolte ordinate e modificabili di elementi ed in questo esercizio , la funzione somma_lista accetta una lista di numeri come input e restituisce la somma di tutti gli elementi utilizzando la funzione built-in sum(). Nell'esercizio 2, la funzione numeri_pari filtra una lista di numeri restituendo solo quelli pari."
   ]
  },
  {
   "cell_type": "code",
   "execution_count": 21,
   "id": "4c195bc7",
   "metadata": {},
   "outputs": [
    {
     "name": "stdout",
     "output_type": "stream",
     "text": [
      "15\n"
     ]
    }
   ],
   "source": [
    "# Definizione della funzione somma_lista che accetta una lista di numeri come input e restituisce la somma di tutti gli elementi nella lista\n",
    "def somma_lista(lista):\n",
    "    # Utilizzo della funzione built-in sum() per calcolare la somma degli elementi nella lista\n",
    "    return sum(lista)\n",
    "\n",
    "# Definizione della lista di numeri di test\n",
    "lista_numeri = [1, 2, 3, 4, 5]\n",
    "\n",
    "# Stampa della somma di tutti gli elementi nella lista di numeri di test utilizzando la funzione somma_lista\n",
    "print(somma_lista(lista_numeri))\n"
   ]
  },
  {
   "cell_type": "code",
   "execution_count": 23,
   "id": "9306fad7",
   "metadata": {},
   "outputs": [
    {
     "name": "stdout",
     "output_type": "stream",
     "text": [
      "[2, 4]\n"
     ]
    }
   ],
   "source": [
    "def numeri_pari(lista):  # Definizione della funzione numeri_pari che prende una lista come input\n",
    "    return [x for x in lista if x % 2 == 0]  # Restituisce una lista contenente solo i numeri pari della lista data\n",
    "\n",
    "lista_numeri = [1, 2, 3, 4, 5]  # Definizione della lista di numeri\n",
    "print(numeri_pari(lista_numeri))  # Stampa i numeri pari presenti nella lista_numeri\n"
   ]
  },
  {
   "cell_type": "markdown",
   "id": "19945757",
   "metadata": {},
   "source": [
    "### Le Tuple\n",
    "\n",
    "Una tupla è una sequenza immutabile di elementi. Nell'esercizio 1, la funzione prodotto_tupla accetta una tupla di numeri come input e restituisce il prodotto di tutti gli elementi. Nell'esercizio 2, la funzione unione_tuple combina due tuple in una nuova tupla."
   ]
  },
  {
   "cell_type": "code",
   "execution_count": 19,
   "id": "9114200d",
   "metadata": {},
   "outputs": [
    {
     "name": "stdout",
     "output_type": "stream",
     "text": [
      "120\n"
     ]
    }
   ],
   "source": [
    "# Definizione della funzione prodotto_tupla che accetta una tupla come input e restituisce il prodotto di tutti gli elementi nella tupla\n",
    "def prodotto_tupla(tupla):\n",
    "    # Inizializzazione del prodotto a 1\n",
    "    prodotto = 1\n",
    "    # Iterazione attraverso ogni elemento nella tupla\n",
    "    for num in tupla:\n",
    "        # Moltiplicazione del prodotto per ogni elemento nella tupla\n",
    "        prodotto *= num\n",
    "    # Restituzione del prodotto\n",
    "    return prodotto\n",
    "\n",
    "# Definizione della tupla di test\n",
    "mia_tupla = (1, 2, 3, 4, 5)\n",
    "\n",
    "# Stampa del prodotto di tutti gli elementi nella tupla di test utilizzando la funzione prodotto_tupla\n",
    "print(prodotto_tupla(mia_tupla))\n"
   ]
  },
  {
   "cell_type": "code",
   "execution_count": 20,
   "id": "5a9c5dd5",
   "metadata": {},
   "outputs": [
    {
     "name": "stdout",
     "output_type": "stream",
     "text": [
      "(1, 2, 3, 4, 5, 6)\n"
     ]
    }
   ],
   "source": [
    "# Definizione della funzione unione_tuple che accetta due tuple come input e restituisce una nuova tupla contenente tutti gli elementi delle due tuple\n",
    "def unione_tuple(tupla1, tupla2):\n",
    "    # Utilizzo dell'operatore di concatenazione \"+\" per unire le due tuple\n",
    "    return tupla1 + tupla2\n",
    "\n",
    "# Definizione delle tuple di test\n",
    "tupla1 = (1, 2, 3)\n",
    "tupla2 = (4, 5, 6)\n",
    "\n",
    "# Stampa della nuova tupla contenente tutti gli elementi delle tuple di test utilizzando la funzione unione_tuple\n",
    "print(unione_tuple(tupla1, tupla2))\n"
   ]
  },
  {
   "cell_type": "markdown",
   "id": "31f1733d",
   "metadata": {},
   "source": [
    "## I dizionari\n",
    "\n",
    "Un dizionario è una raccolta non ordinata di coppie chiave-valore. Nell'esercizio 1, la funzione valore_chiave accetta un dizionario e una chiave come input e restituisce il valore corrispondente alla chiave utilizzando il metodo get(). Nell'esercizio 2, la funzione conta_valore conta quante volte un certo valore appare nel dizionario convertendo i valori in una lista e utilizzando il metodo count()."
   ]
  },
  {
   "cell_type": "code",
   "execution_count": 17,
   "id": "e8aaf391",
   "metadata": {},
   "outputs": [
    {
     "name": "stdout",
     "output_type": "stream",
     "text": [
      "2\n"
     ]
    }
   ],
   "source": [
    "# Definizione della funzione valore_chiave che accetta un dizionario e una chiave come input e restituisce il valore corrispondente alla chiave\n",
    "def valore_chiave(dizionario, chiave):\n",
    "    # Utilizzo del metodo get() per ottenere il valore corrispondente alla chiave specificata nel dizionario\n",
    "    return dizionario.get(chiave)\n",
    "\n",
    "# Dizionario di test\n",
    "diz = {'a': 1, 'b': 2, 'c': 3}\n",
    "\n",
    "# Stampa del valore corrispondente alla chiave 'b' nel dizionario di test utilizzando la funzione valore_chiave\n",
    "print(valore_chiave(diz, 'b'))\n"
   ]
  },
  {
   "cell_type": "code",
   "execution_count": 18,
   "id": "88172821",
   "metadata": {},
   "outputs": [
    {
     "name": "stdout",
     "output_type": "stream",
     "text": [
      "2\n"
     ]
    }
   ],
   "source": [
    "# Definizione della funzione conta_valore che accetta un dizionario e un valore come input e restituisce il numero di volte che il valore compare nel dizionario\n",
    "def conta_valore(dizionario, valore):\n",
    "    # Utilizzo del metodo values() per ottenere una lista dei valori nel dizionario e il metodo count() per contare quante volte compare il valore nella lista\n",
    "    return list(dizionario.values()).count(valore)\n",
    "\n",
    "# Dizionario di test\n",
    "diz = {'a': 1, 'b': 2, 'c': 1}\n",
    "\n",
    "# Stampa del numero di volte che il valore 1 compare nel dizionario di test utilizzando la funzione conta_valore\n",
    "print(conta_valore(diz, 1))\n"
   ]
  },
  {
   "cell_type": "markdown",
   "id": "aa6c691b",
   "metadata": {},
   "source": [
    "## I set\n",
    "Un insieme è una raccolta non ordinata e senza duplicati di elementi. Utilizzo nel codice: Nell'esercizio 1, la funzione unione_insiemi accetta due insiemi come input e restituisce l'unione dei due insiemi utilizzando il metodo union(). Nell'esercizio 2, la funzione intersezione_insiemi restituisce l'intersezione di due insiemi utilizzando il metodo intersection()."
   ]
  },
  {
   "cell_type": "code",
   "execution_count": 13,
   "id": "b7a4202f",
   "metadata": {},
   "outputs": [
    {
     "name": "stdout",
     "output_type": "stream",
     "text": [
      "{1, 2, 3, 4, 5}\n"
     ]
    }
   ],
   "source": [
    "# Definizione della funzione unione_insiemi che accetta due insiemi come input e restituisce l'unione dei due insiemi\n",
    "def unione_insiemi(set1, set2):\n",
    "    # Utilizzo del metodo union() per ottenere l'unione dei due insiemi\n",
    "    return set1.union(set2)\n",
    "\n",
    "# Definizione degli insiemi di test\n",
    "set1 = {1, 2, 3}\n",
    "set2 = {3, 4, 5}\n",
    "\n",
    "# Stampa dell'unione dei due insiemi di test utilizzando la funzione unione_insiemi\n",
    "print(unione_insiemi(set1, set2))\n"
   ]
  },
  {
   "cell_type": "code",
   "execution_count": 14,
   "id": "3afb26e0",
   "metadata": {},
   "outputs": [
    {
     "name": "stdout",
     "output_type": "stream",
     "text": [
      "{3}\n"
     ]
    }
   ],
   "source": [
    "# Definizione della funzione intersezione_insiemi che accetta due insiemi come input e restituisce l'intersezione dei due insiemi\n",
    "def intersezione_insiemi(set1, set2):\n",
    "    # Utilizzo del metodo intersection() per ottenere l'intersezione dei due insiemi\n",
    "    return set1.intersection(set2)\n",
    "\n",
    "# Definizione degli insiemi di test\n",
    "set1 = {1, 2, 3}\n",
    "set2 = {3, 4, 5}\n",
    "\n",
    "# Stampa dell'intersezione dei due insiemi di test utilizzando la funzione intersezione_insiemi\n",
    "print(intersezione_insiemi(set1, set2))\n"
   ]
  },
  {
   "cell_type": "markdown",
   "id": "7d0b3623",
   "metadata": {},
   "source": [
    "## Le stringhe"
   ]
  },
  {
   "cell_type": "markdown",
   "id": "d66b6d80",
   "metadata": {},
   "source": [
    "Una stringa è una sequenza immutabile di caratteri, utilizzata per rappresentare testo. Le stringhe sono ampiamente utilizzate per memorizzare e manipolare testo in Python. Possono essere accedute individualmente tramite l'indicizzazione e possono essere tagliate (slicing) per ottenere sottostringhe. Le stringhe supportano anche molte operazioni utili come la ricerca, la sostituzione, la concatenazione e altro ancora."
   ]
  },
  {
   "cell_type": "markdown",
   "id": "1d105b64",
   "metadata": {},
   "source": [
    "In questo codice scrivo una funzione che accetti una stringa come input e restituisca il numero di vocali presenti nella stringa."
   ]
  },
  {
   "cell_type": "code",
   "execution_count": 12,
   "id": "b30b57de",
   "metadata": {},
   "outputs": [
    {
     "name": "stdout",
     "output_type": "stream",
     "text": [
      "3\n"
     ]
    }
   ],
   "source": [
    "# Definizione della funzione conta_vocali che accetta una stringa come input\n",
    "def conta_vocali(stringa):\n",
    "    # Definizione di una stringa contenente tutte le vocali minuscole e maiuscole\n",
    "    vocali = \"aeiouAEIOU\"\n",
    "    # Inizializzazione del contatore delle vocali\n",
    "    contatore = 0\n",
    "    # Iterazione attraverso ogni carattere nella stringa di input\n",
    "    for char in stringa:\n",
    "        # Verifica se il carattere corrente è una vocale\n",
    "        if char in vocali:\n",
    "            # Se il carattere è una vocale, incrementa il contatore\n",
    "            contatore += 1\n",
    "    # Restituisce il numero totale di vocali trovate nella stringa\n",
    "    return contatore\n",
    "\n",
    "# Stringa di test\n",
    "test_stringa = \"Hello World\"\n",
    "\n",
    "# Stampa del numero di vocali presenti nella stringa di test\n",
    "print(conta_vocali(test_stringa))\n"
   ]
  },
  {
   "cell_type": "markdown",
   "id": "86e5046c",
   "metadata": {},
   "source": [
    "Invece in questo codice scrivo una funzione che accetti una stringa come input e restituisca il numero di vocali presenti nella stringa."
   ]
  },
  {
   "cell_type": "code",
   "execution_count": 11,
   "id": "605f5150",
   "metadata": {},
   "outputs": [
    {
     "name": "stdout",
     "output_type": "stream",
     "text": [
      "dlroW olleH\n"
     ]
    }
   ],
   "source": [
    "# Definizione della funzione inverti_stringa che accetta una stringa come input\n",
    "def inverti_stringa(stringa):\n",
    "    # Utilizzando la tecnica di slicing [::-1], la stringa viene invertita\n",
    "    return stringa[::-1]\n",
    "\n",
    "# Stringa di test\n",
    "test_stringa = \"Hello World\"\n",
    "\n",
    "# Stampa della stringa invertita\n",
    "print(inverti_stringa(test_stringa))\n",
    "\n"
   ]
  }
 ],
 "metadata": {
  "kernelspec": {
   "display_name": "Python 3 (ipykernel)",
   "language": "python",
   "name": "python3"
  },
  "language_info": {
   "codemirror_mode": {
    "name": "ipython",
    "version": 3
   },
   "file_extension": ".py",
   "mimetype": "text/x-python",
   "name": "python",
   "nbconvert_exporter": "python",
   "pygments_lexer": "ipython3",
   "version": "3.11.4"
  }
 },
 "nbformat": 4,
 "nbformat_minor": 5
}
