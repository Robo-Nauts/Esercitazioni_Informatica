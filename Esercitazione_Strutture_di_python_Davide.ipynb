{
 "cells": [
  {
   "cell_type": "markdown",
   "id": "0a2fe6a7",
   "metadata": {},
   "source": [
    "<div style=\"font-family: Arial, sans-serif; background-color: #f8f8f8; padding: 20px; border-radius: 8px; box-shadow: 0 2px 4px rgba(0,0,0,0.1);\">\n",
    "    <h1 style=\"color: #D61616; text-align: center;\">Introduzione alle Strutture Dati in Python </h1>\n",
    "<p style=\"font-size: 16px; text-align: justify; color: #333;\">\n",
    "       In questo notebook, analizzeremo le strutture dati offerte da Python, strumenti importantissimi per qualsiasi programmatore. Esse consentono di organizzare e gestire i dati per facilitare la programmazione in modo efficace ed efficiente.  Che tu sia un principiante che vuole capire le basi o un programmatore esperto che cerca di raffinare le sue competenze, questo notebook serve come guida comprensiva per imparare e applicare le strutture dati in Python. Per ogni struttura avremo 2 esempi per capire la maniera in cui funzionano. Ecco le liste che analizzeremo:\n",
    "    </p>\n",
    "    <ul style=\"list-style-type: none; padding: 0; font-size: 16px; color: #555;\">\n",
    "        <li><strong>Liste:</strong> Utilizzate per immagazzinare collezioni ordinate di elementi. Per ogni lista, presenteremo due esercizi esemplari che ne illustrano l'uso pratico.</li>\n",
    "        <li><strong>Tuple:</strong> Simili alle liste, ma immutabili. Ogni tuple sarà accompagnata da due esempi pratici che mostrano come possono essere utilizzate.</li>\n",
    "        <li><strong>Dizionari:</strong> Collezioni non ordinate di coppie chiave-valore. Forniremo due esempi di codice per ciascun dizionario per esplorarne le funzionalità.</li>\n",
    "        <li><strong>Set:</strong> Collezioni non ordinate di elementi unici. Dimostreremo l'utilizzo dei set attraverso due esercizi specifici.</li>\n",
    "        <li><strong>Stringhe:</strong> Sequenze di caratteri usate per rappresentare testo. Verranno proposti due esempi che evidenziano come manipolare e lavorare con le stringhe.</li>\n",
    "    </ul>\n",
    "</div>\n"
   ]
  },
  {
   "cell_type": "markdown",
   "id": "3b17672c",
   "metadata": {},
   "source": [
    "<div style=\"font-family: Arial, sans-serif; background-color: #f8f8f8; padding: 20px; border-radius: 8px; box-shadow: 0 2px 4px rgba(0,0,0,0.1); text-align: center;\">\n",
    "    <h2 style=\"color: #87ce41;\">Le liste</h2>\n",
    "<p style=\"font-size: 16px; text-align: justify; color: #333;\">\n",
    "       Le liste in Python sono una delle strutture dati più versatili e comunemente utilizzate. Si tratta di collezioni ordinate e modificabili che possono contenere una varietà di elementi, inclusi numeri, stringhe, oggetti complessi e persino altre liste. Ciò le rende estremamente utili per una vasta gamma di applicazioni in programmazione. Una delle caratteristiche chiave delle liste è che sono dinamiche: la loro dimensione può cambiare in seguito all'aggiunta o alla rimozione di elementi. Questa flessibilità le distingue da altre strutture dati come le tuple, che sono immutabili e quindi non possono essere modificate una volta create. L'esempio qui sotto è un'esempio dell'utilizzo della lista\n",
    "    </p>\n",
    "</div>"
   ]
  },
  {
   "cell_type": "code",
   "execution_count": 2,
   "id": "7f0bb190",
   "metadata": {},
   "outputs": [
    {
     "name": "stdout",
     "output_type": "stream",
     "text": [
      "['mela', 'banana', 'ciliegia']\n",
      "['mela', 'banana', 'ciliegia', 'arancia']\n"
     ]
    }
   ],
   "source": [
    "# Creazione di una lista con tre tipi di frutta\n",
    "frutta = [\"mela\", \"banana\", \"ciliegia\"]  # Definisce una lista chiamata 'frutta' con elementi iniziali\n",
    "print(frutta)  # Stampa la lista 'frutta' attuale, che è ['mela', 'banana', 'ciliegia']\n",
    "\n",
    "# Aggiunta di un nuovo elemento alla fine della lista\n",
    "frutta.append(\"arancia\")  # Utilizza il metodo append() per aggiungere 'arancia' alla fine della lista 'frutta'\n",
    "print(frutta)  # Stampa la lista 'frutta' aggiornata, che ora include 'arancia'\n"
   ]
  },
  {
   "cell_type": "code",
   "execution_count": 3,
   "id": "89cbed3e",
   "metadata": {},
   "outputs": [
    {
     "name": "stdout",
     "output_type": "stream",
     "text": [
      "['mela', 'ciliegia', 'arancia']\n",
      "mela\n"
     ]
    }
   ],
   "source": [
    "# Rimozione di un elemento specifico dalla lista\n",
    "frutta.remove(\"banana\")  # Rimuove il primo elemento trovato che corrisponde a 'banana'\n",
    "print(frutta)  # Stampa la lista 'frutta' dopo la rimozione di 'banana', risultato: ['mela', 'ciliegia']\n",
    "\n",
    "# Accesso a un elemento tramite il suo indice\n",
    "print(frutta[0])  # Accede e stampa il primo elemento della lista 'frutta', che ora è 'mela'\n",
    "\n"
   ]
  },
  {
   "cell_type": "markdown",
   "id": "1d1ae293",
   "metadata": {},
   "source": [
    "<div style=\"font-family: Arial, sans-serif; background-color: #f8f8f8; padding: 20px; border-radius: 8px; box-shadow: 0 2px 4px rgba(0,0,0,0.1); text-align: center;\">\n",
    "    <h2 style=\"color:#41cece;\">Tuple</h2>\n",
    "<p style=\"font-size: 16px; text-align: justify; color: #333;\">\n",
    "      Le tuple in Python sono strutture dati fondamentali, particolarmente utili per raggruppare diversi tipi di dati in maniera ordinata e immutabile. Sono simili alle liste in molti modi, ma con una caratteristica chiave che le distingue: una volta create, non possono essere modificate.\n",
    "    </p>\n",
    "</div>"
   ]
  },
  {
   "cell_type": "code",
   "execution_count": 4,
   "id": "5c41fc6b",
   "metadata": {},
   "outputs": [
    {
     "name": "stdout",
     "output_type": "stream",
     "text": [
      "('rosso', 'verde', 'blu')\n",
      "verde\n"
     ]
    }
   ],
   "source": [
    "# Creazione di una tuple con tre colori\n",
    "colori = (\"rosso\", \"verde\", \"blu\")  # Definisce una tuple 'colori' che contiene tre stringhe: 'rosso', 'verde', e 'blu'\n",
    "print(colori)  # Stampa la tuple 'colori', mostrando il suo contenuto: ('rosso', 'verde', 'blu')\n",
    "\n",
    "# Accesso a un elemento specifico della tuple tramite indice\n",
    "print(colori[1])  # Stampa il secondo elemento della tuple 'colori', che è 'verde' (gli indici partono da 0)\n",
    "\n"
   ]
  },
  {
   "cell_type": "code",
   "execution_count": 5,
   "id": "be8d733d",
   "metadata": {},
   "outputs": [
    {
     "name": "stdout",
     "output_type": "stream",
     "text": [
      "verde\n"
     ]
    }
   ],
   "source": [
    "# Tentativo di modificare una tuple (genera un errore)\n",
    "# colori[0] = \"giallo\"  # Questa linea genera un TypeError se eseguita perché le tuple sono immutabili e non possono essere modificate dopo la loro creazione\n",
    "\n",
    "# Unpacking di una tuple\n",
    "rosso, verde, blu = colori  # Assegna i valori di ciascun elemento della tuple 'colori' alle variabili 'rosso', 'verde' e 'blu' rispettivamente\n",
    "print(verde)  # Stampa il valore di 'verde', che è il secondo elemento della tuple 'colori'\n"
   ]
  },
  {
   "cell_type": "markdown",
   "id": "f0b5e700",
   "metadata": {},
   "source": [
    "<div style=\"font-family: Arial, sans-serif; background-color: #f8f8f8; padding: 20px; border-radius: 8px; box-shadow: 0 2px 4px rgba(0,0,0,0.1); text-align: center;\">\n",
    "    <h2 style=\"color: #8741ce;\">Dizionario</h2>\n",
    "<p style=\"font-size: 16px; text-align: justify; color: #333;\">\n",
    "      I dizionari in Python sono strutture dati estremamente versatili e potenti che permettono di memorizzare e gestire dati in una forma chiave-valore. A differenza delle liste o delle tuple, che sono indicizzate numericamente, i dizionari sono indicizzati con chiavi, che possono essere di qualsiasi tipo immutabile, come stringhe o numeri. Questa caratteristica rende i dizionari particolarmente utili per accedere rapidamente ai dati senza dover ricorrere a indici numerici.\n",
    "    </p>\n",
    "</div>"
   ]
  },
  {
   "cell_type": "code",
   "execution_count": 6,
   "id": "3e57ff53",
   "metadata": {},
   "outputs": [
    {
     "name": "stdout",
     "output_type": "stream",
     "text": [
      "{'nome': 'Mario', 'età': 30}\n",
      "{'nome': 'Mario', 'età': 30, 'città': 'Roma'}\n"
     ]
    }
   ],
   "source": [
    "# Creazione di un dizionario\n",
    "persona = {\"nome\": \"Mario\", \"età\": 30}  # Definisce un dizionario 'persona' con due coppie chiave-valore: 'nome' con valore 'Mario' e 'età' con valore 30\n",
    "print(persona)  # Stampa il dizionario 'persona', mostrando il suo contenuto iniziale: {'nome': 'Mario', 'età': 30}\n",
    "\n",
    "# Aggiunta di una coppia chiave-valore\n",
    "persona[\"città\"] = \"Roma\"  # Aggiunge una nuova coppia chiave-valore al dizionario 'persona' con la chiave 'città' e il valore 'Roma'\n",
    "print(persona)  # Stampa il dizionario 'persona' aggiornato, che ora include la nuova coppia chiave-valore: {'nome': 'Mario', 'età': 30, 'città': 'Roma'}\n"
   ]
  },
  {
   "cell_type": "code",
   "execution_count": 7,
   "id": "01eea2d8",
   "metadata": {},
   "outputs": [
    {
     "name": "stdout",
     "output_type": "stream",
     "text": [
      "{'nome': 'Mario', 'città': 'Roma'}\n",
      "Mario\n"
     ]
    }
   ],
   "source": [
    "# Rimozione di una coppia chiave-valore\n",
    "del persona[\"età\"]  # Utilizza l'istruzione 'del' per rimuovere la coppia chiave-valore con chiave 'età' dal dizionario 'persona'\n",
    "print(persona)  # Stampa il dizionario 'persona' dopo la rimozione della chiave 'età', risultato: {'nome': 'Mario', 'città': 'Roma'}\n",
    "\n",
    "# Accesso a un valore tramite chiave\n",
    "print(persona[\"nome\"])  # Accede e stampa il valore associato alla chiave 'nome' nel dizionario 'persona', che è 'Mario'\n"
   ]
  },
  {
   "cell_type": "markdown",
   "id": "409c1fc5",
   "metadata": {},
   "source": [
    "<div style=\"font-family: Arial, sans-serif; background-color: #f8f8f8; padding: 20px; border-radius: 8px; box-shadow: 0 2px 4px rgba(0,0,0,0.1); text-align: center;\">\n",
    "    <h2 style=\"color: #ce41b8;\">Set</h2>\n",
    "<p style=\"font-size: 16px; text-align: justify; color: #333;\">\n",
    "     I set in Python sono una delle strutture dati integrate utilizzate per memorizzare collezioni non ordinate di elementi unici. Sono particolarmente utili quando è necessario mantenere l'unicità degli elementi, eseguire operazioni matematiche di insieme come unioni, intersezioni, differenze, e quando l'ordine degli elementi non è importante.\n",
    "    </p>\n",
    "</div>"
   ]
  },
  {
   "cell_type": "code",
   "execution_count": 8,
   "id": "51bc5682",
   "metadata": {},
   "outputs": [
    {
     "name": "stdout",
     "output_type": "stream",
     "text": [
      "{1, 2, 3}\n",
      "{1, 2, 3, 4}\n"
     ]
    }
   ],
   "source": [
    "# Creazione di un set\n",
    "numeri = {1, 2, 3}  # Definisce un set 'numeri' contenente gli elementi 1, 2 e 3. I set sono utili per mantenere un insieme di elementi unici e non ordinati.\n",
    "print(numeri)  # Stampa il set 'numeri'. L'ordine di stampa può variare dato che i set non mantengono un ordine specifico.\n",
    "\n",
    "# Aggiunta di un elemento\n",
    "numeri.add(4)  # Aggiunge l'elemento 4 al set 'numeri'. I set automaticamente ignorano duplicati, quindi aggiungere un elemento già esistente non ha effetto.\n",
    "print(numeri)  # Stampa il set 'numeri' aggiornato con il nuovo elemento. Mostra {1, 2, 3, 4}, dimostrando che il 4 è stato aggiunto correttamente.\n"
   ]
  },
  {
   "cell_type": "code",
   "execution_count": 9,
   "id": "2b576341",
   "metadata": {},
   "outputs": [
    {
     "name": "stdout",
     "output_type": "stream",
     "text": [
      "{1, 3, 4}\n",
      "{3, 4}\n"
     ]
    }
   ],
   "source": [
    "# Rimozione di un elemento\n",
    "numeri.discard(2)  # Utilizza il metodo 'discard' per rimuovere l'elemento 2 dal set 'numeri'. Se l'elemento non è presente, non succede nulla.\n",
    "print(numeri)  # Stampa il set 'numeri' dopo la rimozione del 2. Mostra l'insieme risultante, che sarà {1, 3, 4} se 2 era presente.\n",
    "\n",
    "# Operazioni di insieme\n",
    "altri_numeri = {3, 4, 5}  # Crea un altro set chiamato 'altri_numeri' contenente gli elementi 3, 4 e 5.\n",
    "print(numeri.intersection(altri_numeri))  # Stampa l'intersezione tra 'numeri' e 'altri_numeri'. L'intersezione è un nuovo set che contiene solo gli elementi presenti in entrambi i set, risultato: {3, 4}.\n",
    "\n"
   ]
  },
  {
   "cell_type": "markdown",
   "id": "6c8f2a80",
   "metadata": {},
   "source": [
    "<div style=\"font-family: Arial, sans-serif; background-color: #f8f8f8; padding: 20px; border-radius: 8px; box-shadow: 0 2px 4px rgba(0,0,0,0.1); text-align: center;\">\n",
    "    <h2 style=\"color: #D4974C;\">Stringhe</h2>\n",
    "<p style=\"font-size: 16px; text-align: justify; color: #333;\">\n",
    "    Le stringhe in Python sono una delle strutture dati più utilizzate e fondamentali. Si tratta di sequenze immutabili di caratteri, utilizzate per rappresentare e manipolare dati testuali. Essendo immutabili, una volta create, il contenuto di una stringa non può essere modificato direttamente.\n",
    "    </p>\n",
    "</div>"
   ]
  },
  {
   "cell_type": "code",
   "execution_count": 10,
   "id": "c90e86b7",
   "metadata": {},
   "outputs": [
    {
     "name": "stdout",
     "output_type": "stream",
     "text": [
      "Ciao, mondo!\n",
      "i\n"
     ]
    }
   ],
   "source": [
    "# Creazione di una stringa\n",
    "saluto = \"Ciao, mondo!\"  # Definisce una variabile 'saluto' e le assegna la stringa \"Ciao, mondo!\".\n",
    "print(saluto)  # Stampa il contenuto della variabile 'saluto', mostrando il testo \"Ciao, mondo!\" sulla console.\n",
    "\n",
    "# Accesso a un carattere\n",
    "print(saluto[1])  # Stampa il carattere alla posizione 1 della stringa 'saluto'. In Python, l'indice inizia da 0, quindi saluto[1] corrisponde alla lettera 'i'.\n",
    "\n"
   ]
  },
  {
   "cell_type": "code",
   "execution_count": 11,
   "id": "00c33b3c",
   "metadata": {},
   "outputs": [
    {
     "name": "stdout",
     "output_type": "stream",
     "text": [
      "Ciao\n",
      "Ciao, mondo! Davide\n"
     ]
    }
   ],
   "source": [
    "# Slicing di una stringa\n",
    "print(saluto[0:4])  # Esegue lo slicing della stringa 'saluto' per ottenere i caratteri dall'indice 0 all'indice 3 (incluso), che corrispondono a \"Ciao\".\n",
    "\n",
    "# Concatenazione di stringhe\n",
    "nome = \"Davide\"  # Definisce una variabile 'nome' e le assegna la stringa \"Davide\".\n",
    "messaggio = saluto + \" \" + nome  # Concatena la stringa 'saluto' con una stringa contenente uno spazio (\" \") e la stringa 'nome', formando il messaggio completo.\n",
    "print(messaggio)  # Stampa la nuova stringa concatenata, risultato: \"Ciao, mondo! Davide\".\n"
   ]
  }
 ],
 "metadata": {
  "kernelspec": {
   "display_name": "Python 3 (ipykernel)",
   "language": "python",
   "name": "python3"
  },
  "language_info": {
   "codemirror_mode": {
    "name": "ipython",
    "version": 3
   },
   "file_extension": ".py",
   "mimetype": "text/x-python",
   "name": "python",
   "nbconvert_exporter": "python",
   "pygments_lexer": "ipython3",
   "version": "3.11.4"
  }
 },
 "nbformat": 4,
 "nbformat_minor": 5
}
