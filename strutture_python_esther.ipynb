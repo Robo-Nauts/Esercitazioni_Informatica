{
 "cells": [
  {
   "cell_type": "markdown",
   "id": "20401865-7b92-4c79-9925-257f962e4e10",
   "metadata": {},
   "source": [
    "<div style=\"font-family: Arial, sans-serif; background-color: #e7f3e3; padding: 20px; border-radius: 8px; box-shadow: 0 2px 4px rgba(0,0,0,0.1);\">\n",
    "<h2>Introduzione alle Strutture Dati in Python</h2>\n",
    "\n",
    "<p>In questo notebook, esploreremo diverse strutture dati fondamentali offerte dal linguaggio di programmazione Python. Le strutture dati sono strumenti essenziali per organizzare e gestire le informazioni in modo efficiente. Comprendere come utilizzare correttamente queste strutture è cruciale per scrivere codice efficace e ottimizzato. Le principali strutture dati che analizzeremo includono:</p>\n",
    "\n",
    "<ol>\n",
    "    <li><strong>Variabili</strong>: Le basi di qualsiasi programma, permettono di memorizzare e manipolare dati come stringhe (testo), numeri interi e numeri decimali (float).</li>\n",
    "    <li><strong>Liste</strong>: Strutture dati ordinate e mutabili che consentono di memorizzare sequenze di elementi, utili per gestire collezioni di dati.</li>\n",
    "    <li><strong>Dizionari</strong>: Collezioni non ordinate di coppie chiave-valore, ideali per rappresentare relazioni tra dati e per accessi rapidi agli elementi.</li>\n",
    "    <li><strong>Set</strong>: Collezioni non ordinate e non indicizzate di elementi unici, utili per operazioni di insiemistica come unioni e intersezioni.</li>\n",
    "    <li><strong>Tuple</strong>: Sequenze ordinate e immutabili di elementi, spesso utilizzate per gruppi di dati eterogenei e per passare multiple informazioni tra funzioni.</li>\n",
    "</ol>\n",
    "\n",
    "<p>Ogni sezione di questo notebook fornirà esempi pratici e approfondimenti sull'utilizzo di queste strutture dati, con un focus particolare sulle loro applicazioni pratiche e sugli scenari in cui eccellono. Sia che tu sia un principiante o un programmatore esperto, questa guida ti aiuterà a migliorare la tua comprensione e il tuo utilizzo delle strutture dati in Python.</p>\n",
    "</div>\n"
   ]
  },
  {
   "cell_type": "markdown",
   "id": "f10eb411-c264-44f5-870a-7e24a6197a93",
   "metadata": {},
   "source": [
    "<div style=\"font-family: Arial, sans-serif; background-color: #e7f3e3; padding: 20px; border-radius: 8px; box-shadow: 0 2px 4px rgba(0,0,0,0.1);\">\n",
    "<h2>Variabili - Stringhe</h2>\n",
    "\n",
    "<p>Una variabile è un contenitore per memorizzare dati. Ogni variabile ha un nome unico che viene utilizzato per fare riferimento ai dati memorizzati. Le stringhe sono un tipo di variabile che memorizza una sequenza di caratteri, come parole o frasi, e vengono delimitate da virgolette singole (') o doppie (\").</p>\n",
    "<p>\n",
    "Il codice, un chiaro esempio di utilizzo delle variabili,  ne dichiara quattro, ciascuna contenente un saluto in una lingua diversa: italiano, spagnolo, francese e giapponese. Successivamente, il codice stampa il contenuto di ciascuna variabile sulla console.\n",
    "</p>\n",
    "</div>\n"
   ]
  },
  {
   "cell_type": "code",
   "execution_count": 2,
   "id": "528baa47",
   "metadata": {},
   "outputs": [
    {
     "name": "stdout",
     "output_type": "stream",
     "text": [
      "Ciao, mondo!\n",
      "¡Hola, mundo!\n",
      "Bonjour, monde!\n",
      "こんにちは、世界！\n"
     ]
    }
   ],
   "source": [
    "# Saluti in diverse lingue\n",
    "saluto_italiano = \"Ciao, mondo!\"  # Saluto in italiano\n",
    "saluto_spagnolo = \"¡Hola, mundo!\"  # Saluto in spagnolo\n",
    "saluto_francese = \"Bonjour, monde!\"  # Saluto in francese\n",
    "saluto_giapponese = \"こんにちは、世界！\"  # Saluto in giapponese\n",
    "\n",
    "print(saluto_italiano)  # Stampa il saluto in italiano\n",
    "print(saluto_spagnolo)  # Stampa il saluto in spagnolo\n",
    "print(saluto_francese)  # Stampa il saluto in francese\n",
    "print(saluto_giapponese)  # Stampa il saluto in giapponese\n"
   ]
  },
  {
   "cell_type": "code",
   "execution_count": 3,
   "id": "fb01b8d7",
   "metadata": {},
   "outputs": [
    {
     "name": "stdout",
     "output_type": "stream",
     "text": [
      "Ciao, mi chiamo Esther e ho 16 anni.\n",
      "Vivo a Milano e mi piace dedicarmi alla Informatica nel tempo libero.\n"
     ]
    }
   ],
   "source": [
    "# Creazione di frasi con formattazione\n",
    "nome = \"Esther\"  # Dichiarazione della variabile nome con il valore \"Esther\"\n",
    "eta = 16  # Dichiarazione della variabile eta con il valore 16\n",
    "frase = f\"Ciao, mi chiamo {nome} e ho {eta} anni.\"  # Creazione di una frase formattata con nome ed eta\n",
    "\n",
    "citta = \"Milano\"  # Dichiarazione della variabile citta con il valore \"Milano\"\n",
    "hobby = \"Informatica\"  # Dichiarazione della variabile hobby con il valore \"Informatica\"\n",
    "descrizione = f\"Vivo a {citta} e mi piace dedicarmi alla {hobby} nel tempo libero.\"  # Creazione di una descrizione formattata con citta e hobby\n",
    "\n",
    "print(frase)  # Stampa della frase formattata\n",
    "print(descrizione)  # Stampa della descrizione formattata\n"
   ]
  },
  {
   "cell_type": "code",
   "execution_count": 4,
   "id": "6377ca10",
   "metadata": {},
   "outputs": [
    {
     "name": "stdout",
     "output_type": "stream",
     "text": [
      "Harry Potter\n",
      "Python è fantastico!\n"
     ]
    }
   ],
   "source": [
    "# Manipolazione delle stringhe\n",
    "titolo_libro = \"harry potter\"  # Dichiarazione della variabile titolo_libro con il valore \"harry potter\"\n",
    "titolo_libro_capitalizzato = titolo_libro.title()  # Capitalizzazione del titolo del libro (ogni parola inizia con una lettera maiuscola)\n",
    "\n",
    "testo = \"  Python è fantastico!  \"  # Dichiarazione della variabile testo con spazi all'inizio e alla fine\n",
    "testo_senza_spazi = testo.strip()  # Rimozione degli spazi all'inizio e alla fine della stringa\n",
    "\n",
    "print(titolo_libro_capitalizzato)  # Stampa del titolo del libro capitalizzato\n",
    "print(testo_senza_spazi)  # Stampa del testo senza spazi all'inizio e alla fine\n"
   ]
  },
  {
   "cell_type": "code",
   "execution_count": 5,
   "id": "23565590",
   "metadata": {},
   "outputs": [
    {
     "name": "stdout",
     "output_type": "stream",
     "text": [
      "Italiano è meglio di matematica.\n"
     ]
    }
   ],
   "source": [
    "# Concatenazione di stringhe\n",
    "frase1 = \"Italiano è meglio\"  # Dichiarazione della variabile frase1 con il valore \"Italiano è meglio\"\n",
    "frase2 = \"di matematica.\"  # Dichiarazione della variabile frase2 con il valore \"di matematica.\"\n",
    "frase_completa = frase1 + \" \" + frase2  # Concatenazione delle due frasi con uno spazio in mezzo\n",
    "\n",
    "print(frase_completa)  # Stampa della frase completa risultante dalla concatenazione\n"
   ]
  },
  {
   "cell_type": "code",
   "execution_count": 6,
   "id": "568b54f1",
   "metadata": {},
   "outputs": [
    {
     "name": "stdout",
     "output_type": "stream",
     "text": [
      "Esther ha letto 50 libri quest'anno!\n"
     ]
    }
   ],
   "source": [
    "# Interpolazione di stringhe con operazioni\n",
    "nome = \"Esther\"  # Dichiarazione della variabile nome con il valore \"Esther\"\n",
    "numero_libri = 25  # Dichiarazione della variabile numero_libri con il valore 25\n",
    "frase = f\"{nome} ha letto {numero_libri * 2} libri quest'anno!\"  # Creazione di una frase formattata con nome e il doppio di numero_libri\n",
    "\n",
    "print(frase)  # Stampa della frase formattata\n"
   ]
  },
  {
   "cell_type": "code",
   "execution_count": 7,
   "id": "c43d842f",
   "metadata": {},
   "outputs": [
    {
     "name": "stdout",
     "output_type": "stream",
     "text": [
      "La luna splende nel cielo,\n",
      "le stelle brillano come gioielli,\n",
      "la notte è silenziosa e calma,\n",
      "un sogno che mai svanisce.\n"
     ]
    }
   ],
   "source": [
    "# Stringhe multi-linea\n",
    "poesia = \"\"\"La luna splende nel cielo,\n",
    "le stelle brillano come gioielli,\n",
    "la notte è silenziosa e calma,\n",
    "un sogno che mai svanisce.\"\"\"  # Dichiarazione di una stringa multi-linea utilizzando triple virgolette\n",
    "\n",
    "print(poesia)  # Stampa della stringa multi-linea\n"
   ]
  },
  {
   "cell_type": "code",
   "execution_count": 8,
   "id": "3ffffd79",
   "metadata": {},
   "outputs": [
    {
     "name": "stdout",
     "output_type": "stream",
     "text": [
      "['Python', 'è', 'potente', 'e', 'versatile.']\n",
      "Python è potente e divertente.\n",
      "La parola 'potente' è presente nel testo? True\n"
     ]
    }
   ],
   "source": [
    "# Utilizzo di metodi avanzati delle stringhe\n",
    "testo = \"Python è potente e versatile.\"\n",
    "\n",
    "# Suddividere il testo in parole\n",
    "parole = testo.split()  # Utilizza il metodo split() per dividere il testo in una lista di parole\n",
    "print(parole)  # Stampa la lista di parole\n",
    "\n",
    "# Sostituire una parola\n",
    "testo_modificato = testo.replace(\"versatile\", \"divertente\")  # Sostituisce la parola \"versatile\" con \"divertente\"\n",
    "print(testo_modificato)  # Stampa il testo modificato\n",
    "\n",
    "# Verificare se una parola è presente\n",
    "parola_presente = \"potente\" in testo  # Controlla se la parola \"potente\" è presente nel testo\n",
    "print(f\"La parola 'potente' è presente nel testo? {parola_presente}\")  # Stampa il risultato della verifica\n"
   ]
  },
  {
   "cell_type": "code",
   "execution_count": 9,
   "id": "efef1914",
   "metadata": {},
   "outputs": [
    {
     "name": "stdout",
     "output_type": "stream",
     "text": [
      "Il testo contiene 10 parole.\n",
      "Il testo contiene 58 lettere.\n",
      "Frequenza delle lettere:\n",
      "p: 3\n",
      "y: 1\n",
      "t: 5\n",
      "h: 1\n",
      "o: 7\n",
      "n: 5\n",
      "è: 1\n",
      "u: 2\n",
      "l: 3\n",
      "i: 5\n",
      "g: 4\n",
      "a: 4\n",
      "d: 1\n",
      "r: 3\n",
      "m: 3\n",
      "z: 1\n",
      "e: 6\n",
      "v: 1\n",
      "s: 1\n",
      ".: 1\n"
     ]
    }
   ],
   "source": [
    "# Analisi di testo\n",
    "testo = \"Python è un linguaggio di programmazione molto potente e versatile.\"\n",
    "\n",
    "# Conteggio delle parole\n",
    "conteggio_parole = len(testo.split())  # Divide il testo in parole e conta il numero di parole\n",
    "print(f\"Il testo contiene {conteggio_parole} parole.\")\n",
    "\n",
    "# Conteggio delle lettere\n",
    "conteggio_lettere = len(testo.replace(\" \", \"\"))  # Rimuove gli spazi e conta il numero di lettere\n",
    "print(f\"Il testo contiene {conteggio_lettere} lettere.\")\n",
    "\n",
    "# Frequenza delle lettere\n",
    "from collections import Counter\n",
    "frequenza_lettere = Counter(testo.replace(\" \", \"\").lower())  # Rimuove gli spazi, converte in minuscolo e conta la frequenza delle lettere\n",
    "print(\"Frequenza delle lettere:\")\n",
    "for lettera, frequenza in frequenza_lettere.items():\n",
    "    print(f\"{lettera}: {frequenza}\")  # Stampa la frequenza di ciascuna lettera\n"
   ]
  },
  {
   "cell_type": "markdown",
   "id": "5e92a5c7-1096-44e6-9db7-9b309148432c",
   "metadata": {},
   "source": [
    "<div style=\"font-family: Arial, sans-serif; background-color: #e7f3e3; padding: 20px; border-radius: 8px; box-shadow: 0 2px 4px rgba(0,0,0,0.1);\">\n",
    "<p>\n",
    "    Il codice implementa una rubrica telefonica interattiva che consente agli utenti di aggiungere, cercare, modificare, eliminare e visualizzare i contatti. La funzione visualizza_menu mostra il menu principale e ritorna l'opzione selezionata dall'utente. La funzione aggiungi_contatto chiede all'utente di inserire il nome, il numero di telefono e l'email di un nuovo contatto, quindi aggiunge questo contatto alla rubrica. La funzione cerca_contatto chiede all'utente di inserire il nome del contatto da cercare e visualizza le informazioni del contatto se trovato. La funzione modifica_contatto chiede all'utente di inserire il nome del contatto da modificare.  </p>\n",
    "    \n",
    "<p>Se il contatto è trovato, chiede di inserire il nuovo numero di telefono e la nuova email, aggiornando le informazioni del contatto. La funzione elimina_contatto chiede all'utente di inserire il nome del contatto da eliminare e, se trovato, lo rimuove dalla rubrica. La funzione visualizza_tutti_contatti visualizza tutti i contatti presenti nella rubrica, se ce ne sono. Se la rubrica è vuota, informa l'utente che non ci sono contatti da visualizzare. La funzione main è il punto di ingresso del programma. Inizializza una rubrica vuota e gestisce il loop principale che permette all'utente di interagire con il menu, eseguendo le varie funzioni in base alla scelta effettuata. Se l'utente sceglie di uscire, il programma termina con un messaggio di saluto.\n",
    "</p>\n",
    "</div>\n"
   ]
  },
  {
   "cell_type": "code",
   "execution_count": 1,
   "id": "cf131fce-3c26-42ea-a360-05654d28bce4",
   "metadata": {},
   "outputs": [
    {
     "name": "stdin",
     "output_type": "stream",
     "text": [
      "\n",
      "    RUBRICA TELEFONICA\n",
      "\n",
      "    1. Aggiungi contatto\n",
      "    2. Cerca contatto\n",
      "    3. Modifica contatto\n",
      "    4. Elimina contatto\n",
      "    5. Visualizza tutti i contatti\n",
      "    6. Esci\n",
      "\n",
      "    Seleziona un'opzione (1-6):  1\n",
      "Inserisci il nome:  Esther Cun\n",
      "Inserisci il numero di telefono:  1234\n",
      "Inserisci l'email:  esthercun@gmail.com\n"
     ]
    },
    {
     "name": "stdout",
     "output_type": "stream",
     "text": [
      "Contatto Esther Cun aggiunto con successo!\n"
     ]
    },
    {
     "name": "stdin",
     "output_type": "stream",
     "text": [
      "\n",
      "    RUBRICA TELEFONICA\n",
      "\n",
      "    1. Aggiungi contatto\n",
      "    2. Cerca contatto\n",
      "    3. Modifica contatto\n",
      "    4. Elimina contatto\n",
      "    5. Visualizza tutti i contatti\n",
      "    6. Esci\n",
      "\n",
      "    Seleziona un'opzione (1-6):  1\n",
      "Inserisci il nome:  Vittorio Crisafi\n",
      "Inserisci il numero di telefono:  5678\n",
      "Inserisci l'email:  vikcrisa@gmail.com\n"
     ]
    },
    {
     "name": "stdout",
     "output_type": "stream",
     "text": [
      "Contatto Vittorio Crisafi aggiunto con successo!\n"
     ]
    },
    {
     "name": "stdin",
     "output_type": "stream",
     "text": [
      "\n",
      "    RUBRICA TELEFONICA\n",
      "\n",
      "    1. Aggiungi contatto\n",
      "    2. Cerca contatto\n",
      "    3. Modifica contatto\n",
      "    4. Elimina contatto\n",
      "    5. Visualizza tutti i contatti\n",
      "    6. Esci\n",
      "\n",
      "    Seleziona un'opzione (1-6):  5\n"
     ]
    },
    {
     "name": "stdout",
     "output_type": "stream",
     "text": [
      "Nome: Esther Cun\n",
      "Telefono: 1234\n",
      "Email: esthercun@gmail.com\n",
      "--------------------\n",
      "Nome: Vittorio Crisafi\n",
      "Telefono: 5678\n",
      "Email: vikcrisa@gmail.com\n",
      "--------------------\n"
     ]
    },
    {
     "name": "stdin",
     "output_type": "stream",
     "text": [
      "\n",
      "    RUBRICA TELEFONICA\n",
      "\n",
      "    1. Aggiungi contatto\n",
      "    2. Cerca contatto\n",
      "    3. Modifica contatto\n",
      "    4. Elimina contatto\n",
      "    5. Visualizza tutti i contatti\n",
      "    6. Esci\n",
      "\n",
      "    Seleziona un'opzione (1-6):  2\n",
      "Inserisci il nome del contatto da cercare:  Esther Cun\n"
     ]
    },
    {
     "name": "stdout",
     "output_type": "stream",
     "text": [
      "Nome: Esther Cun\n",
      "Telefono: 1234\n",
      "Email: esthercun@gmail.com\n"
     ]
    },
    {
     "name": "stdin",
     "output_type": "stream",
     "text": [
      "\n",
      "    RUBRICA TELEFONICA\n",
      "\n",
      "    1. Aggiungi contatto\n",
      "    2. Cerca contatto\n",
      "    3. Modifica contatto\n",
      "    4. Elimina contatto\n",
      "    5. Visualizza tutti i contatti\n",
      "    6. Esci\n",
      "\n",
      "    Seleziona un'opzione (1-6):  3\n",
      "Inserisci il nome del contatto da modificare:  Vittorio Crisafi\n",
      "Inserisci il nuovo numero di telefono (attuale: 5678):  9101\n",
      "Inserisci la nuova email (attuale: vikcrisa@gmail.com):  vikkcrisa@gmail.com\n"
     ]
    },
    {
     "name": "stdout",
     "output_type": "stream",
     "text": [
      "Contatto Vittorio Crisafi modificato con successo!\n"
     ]
    },
    {
     "name": "stdin",
     "output_type": "stream",
     "text": [
      "\n",
      "    RUBRICA TELEFONICA\n",
      "\n",
      "    1. Aggiungi contatto\n",
      "    2. Cerca contatto\n",
      "    3. Modifica contatto\n",
      "    4. Elimina contatto\n",
      "    5. Visualizza tutti i contatti\n",
      "    6. Esci\n",
      "\n",
      "    Seleziona un'opzione (1-6):  6\n"
     ]
    },
    {
     "name": "stdout",
     "output_type": "stream",
     "text": [
      "Uscita dal programma. Arrivederci!\n"
     ]
    }
   ],
   "source": [
    "# Rubrica telefonica interattiva\n",
    "\n",
    "def visualizza_menu():\n",
    "    menu = \"\"\"\n",
    "    RUBRICA TELEFONICA\n",
    "\n",
    "    1. Aggiungi contatto\n",
    "    2. Cerca contatto\n",
    "    3. Modifica contatto\n",
    "    4. Elimina contatto\n",
    "    5. Visualizza tutti i contatti\n",
    "    6. Esci\n",
    "\n",
    "    Seleziona un'opzione (1-6): \"\"\"\n",
    "    return input(menu)  # Mostra il menu e ritorna l'opzione selezionata dall'utente\n",
    "\n",
    "def aggiungi_contatto(rubrica):\n",
    "    nome = input(\"Inserisci il nome: \")  # Chiede il nome del contatto\n",
    "    telefono = input(\"Inserisci il numero di telefono: \")  # Chiede il numero di telefono\n",
    "    email = input(\"Inserisci l'email: \")  # Chiede l'email\n",
    "    rubrica[nome] = {\n",
    "        \"telefono\": telefono,\n",
    "        \"email\": email\n",
    "    }  # Aggiunge il contatto alla rubrica\n",
    "    print(f\"Contatto {nome} aggiunto con successo!\")  # Conferma l'aggiunta del contatto\n",
    "\n",
    "def cerca_contatto(rubrica):\n",
    "    nome = input(\"Inserisci il nome del contatto da cercare: \")  # Chiede il nome del contatto da cercare\n",
    "    contatto = rubrica.get(nome)  # Cerca il contatto nella rubrica\n",
    "    if contatto:\n",
    "        print(f\"Nome: {nome}\")\n",
    "        print(f\"Telefono: {contatto['telefono']}\")\n",
    "        print(f\"Email: {contatto['email']}\")  # Mostra i dettagli del contatto se trovato\n",
    "    else:\n",
    "        print(f\"Contatto {nome} non trovato.\")  # Messaggio se il contatto non è trovato\n",
    "\n",
    "def modifica_contatto(rubrica):\n",
    "    nome = input(\"Inserisci il nome del contatto da modificare: \")  # Chiede il nome del contatto da modificare\n",
    "    contatto = rubrica.get(nome)  # Cerca il contatto nella rubrica\n",
    "    if contatto:\n",
    "        nuovo_telefono = input(f\"Inserisci il nuovo numero di telefono (attuale: {contatto['telefono']}): \")\n",
    "        nuova_email = input(f\"Inserisci la nuova email (attuale: {contatto['email']}): \")\n",
    "        rubrica[nome] = {\n",
    "            \"telefono\": nuovo_telefono if nuovo_telefono else contatto['telefono'],\n",
    "            \"email\": nuova_email if nuova_email else contatto['email']\n",
    "        }  # Modifica i dettagli del contatto\n",
    "        print(f\"Contatto {nome} modificato con successo!\")  # Conferma la modifica del contatto\n",
    "    else:\n",
    "        print(f\"Contatto {nome} non trovato.\")  # Messaggio se il contatto non è trovato\n",
    "\n",
    "def elimina_contatto(rubrica):\n",
    "    nome = input(\"Inserisci il nome del contatto da eliminare: \")  # Chiede il nome del contatto da eliminare\n",
    "    if nome in rubrica:\n",
    "        del rubrica[nome]  # Elimina il contatto dalla rubrica\n",
    "        print(f\"Contatto {nome} eliminato con successo!\")  # Conferma l'eliminazione del contatto\n",
    "    else:\n",
    "        print(f\"Contatto {nome} non trovato.\")  # Messaggio se il contatto non è trovato\n",
    "\n",
    "def visualizza_tutti_contatti(rubrica):\n",
    "    if rubrica:\n",
    "        for nome, contatto in rubrica.items():\n",
    "            print(f\"Nome: {nome}\")\n",
    "            print(f\"Telefono: {contatto['telefono']}\")\n",
    "            print(f\"Email: {contatto['email']}\")\n",
    "            print(\"-\" * 20)  # Mostra i dettagli di tutti i contatti nella rubrica\n",
    "    else:\n",
    "        print(\"La rubrica è vuota.\")  # Messaggio se la rubrica è vuota\n",
    "\n",
    "def main():\n",
    "    rubrica = {}  # Inizializza una rubrica vuota\n",
    "    while True:\n",
    "        scelta = visualizza_menu()  # Mostra il menu e ottiene la scelta dell'utente\n",
    "        if scelta == '1':\n",
    "            aggiungi_contatto(rubrica)  # Aggiungi un contatto\n",
    "        elif scelta == '2':\n",
    "            cerca_contatto(rubrica)  # Cerca un contatto\n",
    "        elif scelta == '3':\n",
    "            modifica_contatto(rubrica)  # Modifica un contatto\n",
    "        elif scelta == '4':\n",
    "            elimina_contatto(rubrica)  # Elimina un contatto\n",
    "        elif scelta == '5':\n",
    "            visualizza_tutti_contatti(rubrica)  # Visualizza tutti i contatti\n",
    "        elif scelta == '6':\n",
    "            print(\"Uscita dal programma. Arrivederci!\")  # Messaggio di uscita\n",
    "            break  # Esce dal loop e termina il programma\n",
    "        else:\n",
    "            print(\"Opzione non valida. Per favore, seleziona un'opzione tra 1 e 6.\")  # Messaggio di errore per opzione non valida\n",
    "\n",
    "if __name__ == \"__main__\":\n",
    "    main()  # Esegue la funzione main se il file è eseguito come script principale\n"
   ]
  },
  {
   "cell_type": "markdown",
   "id": "1a089463-44c3-4b17-9b9d-1e60517e7d8b",
   "metadata": {},
   "source": [
    "<div style=\"font-family: Arial, sans-serif; background-color: #e7f3e3; padding: 20px; border-radius: 8px; box-shadow: 0 2px 4px rgba(0,0,0,0.1);\">\n",
    "<h2>Variabili Int e float</h2>\n",
    "<p>\n",
    "Le variabili numeriche possono essere di tipo int o float. Le variabili di tipo int rappresentano numeri interi, che possono essere positivi, negativi o zero, come -10, 0, 25. Le variabili di tipo float rappresentano numeri a virgola mobile, cioè numeri con una parte decimale, come 3.14, -0.001, 2.0.</p>\n",
    "</div>\n"
   ]
  },
  {
   "cell_type": "code",
   "execution_count": 2,
   "id": "3c29b106",
   "metadata": {},
   "outputs": [
    {
     "name": "stdout",
     "output_type": "stream",
     "text": [
      "Somma: 15\n",
      "Differenza: 5\n",
      "Prodotto: 50\n",
      "Quoziente: 2.0\n"
     ]
    }
   ],
   "source": [
    "# Operazioni aritmetiche di base\n",
    "a = 10  # Dichiarazione della variabile a con il valore 10\n",
    "b = 5  # Dichiarazione della variabile b con il valore 5\n",
    "\n",
    "somma = a + b  # Calcolo della somma di a e b\n",
    "differenza = a - b  # Calcolo della differenza tra a e b\n",
    "prodotto = a * b  # Calcolo del prodotto di a e b\n",
    "quoziente = a / b  # Calcolo del quoziente della divisione di a per b\n",
    "\n",
    "print(f\"Somma: {somma}\")  # Stampa del risultato della somma\n",
    "print(f\"Differenza: {differenza}\")  # Stampa del risultato della differenza\n",
    "print(f\"Prodotto: {prodotto}\")  # Stampa del risultato del prodotto\n",
    "print(f\"Quoziente: {quoziente}\")  # Stampa del risultato del quoziente\n"
   ]
  },
  {
   "cell_type": "code",
   "execution_count": 3,
   "id": "bb21f7c3",
   "metadata": {},
   "outputs": [
    {
     "name": "stdout",
     "output_type": "stream",
     "text": [
      "Area del cerchio: 78.54\n",
      "Circonferenza del cerchio: 31.42\n"
     ]
    }
   ],
   "source": [
    "# Utilizzo di numeri decimali\n",
    "pi_greco = 3.14159  # Dichiarazione della variabile pi_greco con il valore 3.14159\n",
    "raggio = 5.0  # Dichiarazione della variabile raggio con il valore 5.0\n",
    "\n",
    "area_cerchio = pi_greco * raggio ** 2  # Calcolo dell'area del cerchio usando la formula πr²\n",
    "circonferenza = 2 * pi_greco * raggio  # Calcolo della circonferenza del cerchio usando la formula 2πr\n",
    "\n",
    "print(f\"Area del cerchio: {area_cerchio:.2f}\")  # Stampa dell'area del cerchio, formattata con due decimali\n",
    "print(f\"Circonferenza del cerchio: {circonferenza:.2f}\")  # Stampa della circonferenza del cerchio, formattata con due decimali"
   ]
  },
  {
   "cell_type": "code",
   "execution_count": 4,
   "id": "468cdfa6",
   "metadata": {},
   "outputs": [
    {
     "name": "stdout",
     "output_type": "stream",
     "text": [
      "Numero casuale tra 1 e 100: 94\n",
      "Numero float casuale tra 1.0 e 10.0: 8.48\n"
     ]
    }
   ],
   "source": [
    "import random\n",
    "\n",
    "# Generazione di numeri casuali\n",
    "numero_casuale = random.randint(1, 100)  # Genera un numero intero casuale tra 1 e 100\n",
    "print(f\"Numero casuale tra 1 e 100: {numero_casuale}\")  # Stampa il numero intero casuale generato\n",
    "\n",
    "# Generazione di un numero float casuale\n",
    "numero_float_casuale = random.uniform(1.0, 10.0)  # Genera un numero float casuale tra 1.0 e 10.0\n",
    "print(f\"Numero float casuale tra 1.0 e 10.0: {numero_float_casuale:.2f}\")  # Stampa il numero float casuale generato, formattato con due decimali\n"
   ]
  },
  {
   "cell_type": "code",
   "execution_count": 10,
   "id": "91c72a6a",
   "metadata": {},
   "outputs": [
    {
     "name": "stdout",
     "output_type": "stream",
     "text": [
      "Prezzo originale: €50.00\n",
      "Sconto del 20%: €40.00\n"
     ]
    }
   ],
   "source": [
    "# Calcolo del prezzo scontato\n",
    "prezzo_originale = 50.0  # Dichiarazione della variabile prezzo_originale con il valore 50.0\n",
    "sconto = 0.20  # Dichiarazione della variabile sconto con il valore 0.20 (20%)\n",
    "\n",
    "prezzo_scontato = prezzo_originale * (1 - sconto)  # Calcolo del prezzo scontato applicando lo sconto del 20%\n",
    "print(f\"Prezzo originale: €{prezzo_originale:.2f}\")  # Stampa del prezzo originale, formattato con due decimali\n",
    "print(f\"Sconto del 20%: €{prezzo_scontato:.2f}\")  # Stampa del prezzo scontato, formattato con due decimali\n"
   ]
  },
  {
   "cell_type": "code",
   "execution_count": 9,
   "id": "7eea2746",
   "metadata": {},
   "outputs": [
    {
     "name": "stdout",
     "output_type": "stream",
     "text": [
      "Numeri: [10, 20, 30, 40, 50]\n",
      "Media: 30.00\n",
      "Deviazione standard: 15.81\n"
     ]
    }
   ],
   "source": [
    "import statistics\n",
    "\n",
    "# Calcolo della media e della deviazione standard\n",
    "numeri = [10, 20, 30, 40, 50]  # Lista di numeri\n",
    "\n",
    "media = statistics.mean(numeri)  # Calcolo della media dei numeri nella lista\n",
    "deviazione_standard = statistics.stdev(numeri)  # Calcolo della deviazione standard dei numeri nella lista\n",
    "\n",
    "print(f\"Numeri: {numeri}\")  # Stampa della lista di numeri\n",
    "print(f\"Media: {media:.2f}\")  # Stampa della media, formattata con due decimali\n",
    "print(f\"Deviazione standard: {deviazione_standard:.2f}\")  # Stampa della deviazione standard, formattata con due decimali\n"
   ]
  },
  {
   "cell_type": "code",
   "execution_count": 8,
   "id": "37a78420",
   "metadata": {},
   "outputs": [
    {
     "name": "stdout",
     "output_type": "stream",
     "text": [
      "Numeri casuali: [97, 31, 18, 28, 24, 36, 13, 63, 70, 73]\n",
      "Media: 45.30\n",
      "Massimo: 97\n",
      "Minimo: 13\n"
     ]
    }
   ],
   "source": [
    "import random\n",
    "\n",
    "# Generazione di numeri casuali\n",
    "numeri_casuali = [random.randint(1, 100) for _ in range(10)]  # Genera una lista di 10 numeri interi casuali tra 1 e 100\n",
    "media = sum(numeri_casuali) / len(numeri_casuali)  # Calcola la media dei numeri casuali\n",
    "massimo = max(numeri_casuali)  # Trova il valore massimo nella lista dei numeri casuali\n",
    "minimo = min(numeri_casuali)  # Trova il valore minimo nella lista dei numeri casuali\n",
    "\n",
    "print(f\"Numeri casuali: {numeri_casuali}\")  # Stampa la lista dei numeri casuali\n",
    "print(f\"Media: {media:.2f}\")  # Stampa la media dei numeri, formattata con due decimali\n",
    "print(f\"Massimo: {massimo}\")  # Stampa il valore massimo\n",
    "print(f\"Minimo: {minimo}\")  # Stampa il valore minimo\n"
   ]
  },
  {
   "cell_type": "code",
   "execution_count": 12,
   "id": "62dd36b2",
   "metadata": {},
   "outputs": [
    {
     "name": "stdin",
     "output_type": "stream",
     "text": [
      "\n",
      "    GESTIONE DELLE SPESE PERSONALI\n",
      "\n",
      "    1. Aggiungi spesa\n",
      "    2. Visualizza totale spese\n",
      "    3. Visualizza spese per categoria\n",
      "    4. Calcola spesa media giornaliera\n",
      "    5. Esci\n",
      "\n",
      "    Seleziona un'opzione (1-5):  1\n",
      "Inserisci la categoria della spesa (es. Alimentari, Trasporti, Divertimento):  Alimentari\n",
      "Inserisci l'importo della spesa:  100\n"
     ]
    },
    {
     "name": "stdout",
     "output_type": "stream",
     "text": [
      "Spesa di €100.00 nella categoria 'Alimentari' aggiunta con successo!\n"
     ]
    },
    {
     "name": "stdin",
     "output_type": "stream",
     "text": [
      "\n",
      "    GESTIONE DELLE SPESE PERSONALI\n",
      "\n",
      "    1. Aggiungi spesa\n",
      "    2. Visualizza totale spese\n",
      "    3. Visualizza spese per categoria\n",
      "    4. Calcola spesa media giornaliera\n",
      "    5. Esci\n",
      "\n",
      "    Seleziona un'opzione (1-5):  1\n",
      "Inserisci la categoria della spesa (es. Alimentari, Trasporti, Divertimento):  Trasporti\n",
      "Inserisci l'importo della spesa:  20\n"
     ]
    },
    {
     "name": "stdout",
     "output_type": "stream",
     "text": [
      "Spesa di €20.00 nella categoria 'Trasporti' aggiunta con successo!\n"
     ]
    },
    {
     "name": "stdin",
     "output_type": "stream",
     "text": [
      "\n",
      "    GESTIONE DELLE SPESE PERSONALI\n",
      "\n",
      "    1. Aggiungi spesa\n",
      "    2. Visualizza totale spese\n",
      "    3. Visualizza spese per categoria\n",
      "    4. Calcola spesa media giornaliera\n",
      "    5. Esci\n",
      "\n",
      "    Seleziona un'opzione (1-5):  1\n",
      "Inserisci la categoria della spesa (es. Alimentari, Trasporti, Divertimento):  Divertimento\n",
      "Inserisci l'importo della spesa:  35\n"
     ]
    },
    {
     "name": "stdout",
     "output_type": "stream",
     "text": [
      "Spesa di €35.00 nella categoria 'Divertimento' aggiunta con successo!\n"
     ]
    },
    {
     "name": "stdin",
     "output_type": "stream",
     "text": [
      "\n",
      "    GESTIONE DELLE SPESE PERSONALI\n",
      "\n",
      "    1. Aggiungi spesa\n",
      "    2. Visualizza totale spese\n",
      "    3. Visualizza spese per categoria\n",
      "    4. Calcola spesa media giornaliera\n",
      "    5. Esci\n",
      "\n",
      "    Seleziona un'opzione (1-5):  22\n"
     ]
    },
    {
     "name": "stdout",
     "output_type": "stream",
     "text": [
      "Opzione non valida. Per favore, seleziona un'opzione tra 1 e 5.\n"
     ]
    },
    {
     "name": "stdin",
     "output_type": "stream",
     "text": [
      "\n",
      "    GESTIONE DELLE SPESE PERSONALI\n",
      "\n",
      "    1. Aggiungi spesa\n",
      "    2. Visualizza totale spese\n",
      "    3. Visualizza spese per categoria\n",
      "    4. Calcola spesa media giornaliera\n",
      "    5. Esci\n",
      "\n",
      "    Seleziona un'opzione (1-5):  2\n"
     ]
    },
    {
     "name": "stdout",
     "output_type": "stream",
     "text": [
      "Il totale delle spese è: €155.00\n"
     ]
    },
    {
     "name": "stdin",
     "output_type": "stream",
     "text": [
      "\n",
      "    GESTIONE DELLE SPESE PERSONALI\n",
      "\n",
      "    1. Aggiungi spesa\n",
      "    2. Visualizza totale spese\n",
      "    3. Visualizza spese per categoria\n",
      "    4. Calcola spesa media giornaliera\n",
      "    5. Esci\n",
      "\n",
      "    Seleziona un'opzione (1-5):  4\n",
      "Inserisci il numero di giorni in cui sono state effettuate le spese:  2\n"
     ]
    },
    {
     "name": "stdout",
     "output_type": "stream",
     "text": [
      "La spesa media giornaliera è: €77.50\n"
     ]
    },
    {
     "name": "stdin",
     "output_type": "stream",
     "text": [
      "\n",
      "    GESTIONE DELLE SPESE PERSONALI\n",
      "\n",
      "    1. Aggiungi spesa\n",
      "    2. Visualizza totale spese\n",
      "    3. Visualizza spese per categoria\n",
      "    4. Calcola spesa media giornaliera\n",
      "    5. Esci\n",
      "\n",
      "    Seleziona un'opzione (1-5):  5\n"
     ]
    },
    {
     "name": "stdout",
     "output_type": "stream",
     "text": [
      "Uscita dal programma. Arrivederci!\n"
     ]
    }
   ],
   "source": [
    "# Gestione delle Spese Personali\n",
    "\n",
    "def visualizza_menu():\n",
    "    menu = \"\"\"\n",
    "    GESTIONE DELLE SPESE PERSONALI\n",
    "\n",
    "    1. Aggiungi spesa\n",
    "    2. Visualizza totale spese\n",
    "    3. Visualizza spese per categoria\n",
    "    4. Calcola spesa media giornaliera\n",
    "    5. Esci\n",
    "\n",
    "    Seleziona un'opzione (1-5): \"\"\"\n",
    "    return input(menu)  # Mostra il menu e ritorna l'opzione selezionata dall'utente\n",
    "\n",
    "def aggiungi_spesa(spese):\n",
    "    categoria = input(\"Inserisci la categoria della spesa (es. Alimentari, Trasporti, Divertimento): \")  # Chiede la categoria della spesa\n",
    "    importo = float(input(\"Inserisci l'importo della spesa: \"))  # Chiede l'importo della spesa\n",
    "    spese.append({\n",
    "        \"categoria\": categoria,\n",
    "        \"importo\": importo\n",
    "    })  # Aggiunge la spesa alla lista delle spese\n",
    "    print(f\"Spesa di €{importo:.2f} nella categoria '{categoria}' aggiunta con successo!\")  # Conferma l'aggiunta della spesa\n",
    "\n",
    "def visualizza_totale_spese(spese):\n",
    "    totale = sum(spesa[\"importo\"] for spesa in spese)  # Calcola il totale delle spese\n",
    "    print(f\"Il totale delle spese è: €{totale:.2f}\")  # Stampa il totale delle spese\n",
    "\n",
    "def visualizza_spese_per_categoria(spese):\n",
    "    spese_per_categoria = {}\n",
    "    for spesa in spese:\n",
    "        categoria = spesa[\"categoria\"]\n",
    "        importo = spesa[\"importo\"]\n",
    "        if categoria in spese_per_categoria:\n",
    "            spese_per_categoria[categoria] += importo  # Aggiunge l'importo alla categoria esistente\n",
    "        else:\n",
    "            spese_per_categoria[categoria] = importo  # Crea una nuova categoria con l'importo\n",
    "\n",
    "    for categoria, totale in spese_per_categoria.items():\n",
    "        print(f\"Categoria: {categoria} - Totale Spese: €{totale:.2f}\")  # Stampa le spese totali per ogni categoria\n",
    "\n",
    "def calcola_spesa_media_giornaliera(spese):\n",
    "    giorni = int(input(\"Inserisci il numero di giorni in cui sono state effettuate le spese: \"))  # Chiede il numero di giorni\n",
    "    totale = sum(spesa[\"importo\"] for spesa in spese)  # Calcola il totale delle spese\n",
    "    media_giornaliera = totale / giorni if giorni > 0 else 0  # Calcola la spesa media giornaliera\n",
    "    print(f\"La spesa media giornaliera è: €{media_giornaliera:.2f}\")  # Stampa la spesa media giornaliera\n",
    "\n",
    "def main():\n",
    "    spese = []  # Inizializza una lista vuota per le spese\n",
    "    while True:\n",
    "        scelta = visualizza_menu()  # Mostra il menu e ottiene la scelta dell'utente\n",
    "        if scelta == '1':\n",
    "            aggiungi_spesa(spese)  # Aggiungi una spesa\n",
    "        elif scelta == '2':\n",
    "            visualizza_totale_spese(spese)  # Visualizza il totale delle spese\n",
    "        elif scelta == '3':\n",
    "            visualizza_spese_per_categoria(spese)  # Visualizza le spese per categoria\n",
    "        elif scelta == '4':\n",
    "            calcola_spesa_media_giornaliera(spese)  # Calcola la spesa media giornaliera\n",
    "        elif scelta == '5':\n",
    "            print(\"Uscita dal programma. Arrivederci!\")  # Messaggio di uscita\n",
    "            break  # Esce dal loop e termina il programma\n",
    "        else:\n",
    "            print(\"Opzione non valida. Per favore, seleziona un'opzione tra 1 e 5.\")  # Messaggio di errore per opzione non valida\n",
    "\n",
    "if __name__ == \"__main__\":\n",
    "    main()  # Esegue la funzione main se il file è eseguito come script principale\n"
   ]
  },
  {
   "cell_type": "markdown",
   "id": "42a10dae-76da-4fdb-bf88-d000eaebf42f",
   "metadata": {},
   "source": [
    "<div style=\"font-family: Arial, sans-serif; background-color: #e7f3e3; padding: 20px; border-radius: 8px; box-shadow: 0 2px 4px rgba(0,0,0,0.1);\">\n",
    "<h2>Variabili Bool e Booleani</h2>\n",
    "<p>\n",
    "Le variabili di tipo bool (booleano) rappresentano valori di verità. Ci sono solo due valori booleani: True e False. Questi valori vengono utilizzati per prendere decisioni logiche nel codice, come nelle istruzioni condizionali e nei cicli.\n",
    "\n",
    "Le variabili booleane possono memorizzare il risultato di espressioni logiche, come confronti (ad esempio, ==, !=, >, <, >=, <=) e operazioni logiche (and, or, not). Il tipo booleano è essenziale per il controllo del flusso del programma, permettendo di eseguire blocchi di codice solo se determinate condizioni sono soddisfatte.</p>\n",
    "</div>\n"
   ]
  },
  {
   "cell_type": "code",
   "execution_count": 13,
   "id": "b63bf22c",
   "metadata": {},
   "outputs": [
    {
     "name": "stdout",
     "output_type": "stream",
     "text": [
      "È soleggiato? True\n",
      "Sta piovendo? False\n"
     ]
    }
   ],
   "source": [
    "# Condizioni semplici\n",
    "is_sunny = True  # Dichiarazione della variabile booleana is_sunny con il valore True\n",
    "is_raining = False  # Dichiarazione della variabile booleana is_raining con il valore False\n",
    "\n",
    "print(f\"È soleggiato? {is_sunny}\")  # Stampa il messaggio \"È soleggiato?\" seguito dal valore di is_sunny\n",
    "print(f\"Sta piovendo? {is_raining}\")  # Stampa il messaggio \"Sta piovendo?\" seguito dal valore di is_raining\n"
   ]
  },
  {
   "cell_type": "code",
   "execution_count": 14,
   "id": "9766a9fd",
   "metadata": {},
   "outputs": [
    {
     "name": "stdout",
     "output_type": "stream",
     "text": [
      "L'utente è un adulto? True\n"
     ]
    }
   ],
   "source": [
    "# Controllo dell'età\n",
    "eta = 20  # Dichiarazione della variabile eta con il valore 20\n",
    "is_adulto = eta >= 18  # Assegna True a is_adulto se eta è maggiore o uguale a 18, altrimenti False\n",
    "\n",
    "print(f\"L'utente è un adulto? {is_adulto}\")  # Stampa il messaggio \"L'utente è un adulto?\" seguito dal valore di is_adulto\n"
   ]
  },
  {
   "cell_type": "code",
   "execution_count": 15,
   "id": "2bf59f07",
   "metadata": {},
   "outputs": [
    {
     "name": "stdout",
     "output_type": "stream",
     "text": [
      "I nomi sono uguali? False\n"
     ]
    }
   ],
   "source": [
    "# Verifica di uguaglianza\n",
    "nome1 = \"Esther\"  # Dichiarazione della variabile nome1 con il valore \"Esther\"\n",
    "nome2 = \"Federico\"  # Dichiarazione della variabile nome2 con il valore \"Federico\"\n",
    "stessi_nomi = nome1 == nome2  # Assegna True a stessi_nomi se nome1 è uguale a nome2, altrimenti False\n",
    "\n",
    "print(f\"I nomi sono uguali? {stessi_nomi}\")  # Stampa il messaggio \"I nomi sono uguali?\" seguito dal valore di stessi_nomi\n"
   ]
  },
  {
   "cell_type": "code",
   "execution_count": 17,
   "id": "32c2a1fd",
   "metadata": {},
   "outputs": [
    {
     "name": "stdout",
     "output_type": "stream",
     "text": [
      "Il numero 42 è pari? True\n"
     ]
    }
   ],
   "source": [
    "# Parità di un numero\n",
    "numero = 42  # Dichiarazione della variabile numero con il valore 42\n",
    "is_pari = numero % 2 == 0  # Assegna True a is_pari se il numero è pari (cioè il resto della divisione per 2 è 0), altrimenti False\n",
    "\n",
    "print(f\"Il numero {numero} è pari? {is_pari}\")  # Stampa il messaggio \"Il numero 42 è pari?\" seguito dal valore di is_pari\n"
   ]
  },
  {
   "cell_type": "code",
   "execution_count": 18,
   "id": "cb6f6fd4",
   "metadata": {},
   "outputs": [
    {
     "name": "stdout",
     "output_type": "stream",
     "text": [
      "Puoi riposare? True\n"
     ]
    }
   ],
   "source": [
    "# Combinazioni di condizioni\n",
    "is_weekend = True  # Dichiarazione della variabile is_weekend con il valore True\n",
    "is_vacanza = False  # Dichiarazione della variabile is_vacanza con il valore False\n",
    "puoi_riposare = is_weekend or is_vacanza  # Assegna True a puoi_riposare se is_weekend o is_vacanza è True\n",
    "\n",
    "print(f\"Puoi riposare? {puoi_riposare}\")  # Stampa il messaggio \"Puoi riposare?\" seguito dal valore di puoi_riposare\n"
   ]
  },
  {
   "cell_type": "code",
   "execution_count": 19,
   "id": "cb6a15bf",
   "metadata": {},
   "outputs": [
    {
     "name": "stdout",
     "output_type": "stream",
     "text": [
      "Ci sono arance nella lista? True\n"
     ]
    }
   ],
   "source": [
    "# Verifica della presenza di un elemento in una lista\n",
    "frutti = [\"pesca\", \"arancia\", \"cocomero\"]  # Dichiarazione della lista frutti con tre elementi\n",
    "ha_arancia = \"arancia\" in frutti  # Assegna True a ha_arancia se \"arancia\" è presente nella lista frutti, altrimenti False\n",
    "\n",
    "print(f\"Ci sono arance nella lista? {ha_arancia}\")  # Stampa il messaggio \"Ci sono arance nella lista?\" seguito dal valore di ha_arancia\n"
   ]
  },
  {
   "cell_type": "code",
   "execution_count": 20,
   "id": "af33426d",
   "metadata": {},
   "outputs": [
    {
     "name": "stdin",
     "output_type": "stream",
     "text": [
      "Qual è il tuo nome?  Esther\n"
     ]
    },
    {
     "name": "stdout",
     "output_type": "stream",
     "text": [
      "Sei Esther? True\n"
     ]
    }
   ],
   "source": [
    "# Condizioni con input utente\n",
    "nome_utente = input(\"Qual è il tuo nome? \")  # Chiede all'utente di inserire il proprio nome e lo assegna a nome_utente\n",
    "is_supercoder = nome_utente == \"Esther\"  # Assegna True a is_supercoder se nome_utente è \"Esther\", altrimenti False\n",
    "\n",
    "print(f\"Sei Esther? {is_supercoder}\")  # Stampa il messaggio \"Sei Esther?\" seguito dal valore di is_supercoder\n"
   ]
  },
  {
   "cell_type": "code",
   "execution_count": 21,
   "id": "c2e093f3",
   "metadata": {},
   "outputs": [
    {
     "name": "stdout",
     "output_type": "stream",
     "text": [
      "Il numero 15 è un multiplo di 3? True\n",
      "Il numero 15 è un multiplo di 5? True\n",
      "Il numero 15 è un multiplo di entrambi? True\n"
     ]
    }
   ],
   "source": [
    "# Verifica di più condizioni\n",
    "numero = 15  # Dichiarazione della variabile numero con il valore 15\n",
    "is_multiplo_di_3 = numero % 3 == 0  # Assegna True a is_multiplo_di_3 se numero è divisibile per 3, altrimenti False\n",
    "is_multiplo_di_5 = numero % 5 == 0  # Assegna True a is_multiplo_di_5 se numero è divisibile per 5, altrimenti False\n",
    "is_multiplo_di_entrambi = is_multiplo_di_3 and is_multiplo_di_5  # Assegna True a is_multiplo_di_entrambi se numero è divisibile sia per 3 che per 5\n",
    "\n",
    "print(f\"Il numero {numero} è un multiplo di 3? {is_multiplo_di_3}\")  # Stampa il messaggio \"Il numero 15 è un multiplo di 3?\" seguito dal valore di is_multiplo_di_3\n",
    "print(f\"Il numero {numero} è un multiplo di 5? {is_multiplo_di_5}\")  # Stampa il messaggio \"Il numero 15 è un multiplo di 5?\" seguito dal valore di is_multiplo_di_5\n",
    "print(f\"Il numero {numero} è un multiplo di entrambi? {is_multiplo_di_entrambi}\")  # Stampa il messaggio \"Il numero 15 è un multiplo di entrambi?\" seguito dal valore di is_multiplo_di_entrambi\n"
   ]
  },
  {
   "cell_type": "code",
   "execution_count": 22,
   "id": "367505f1",
   "metadata": {},
   "outputs": [
    {
     "name": "stdout",
     "output_type": "stream",
     "text": [
      "L'utente ha inserito credenziali valide? True\n"
     ]
    }
   ],
   "source": [
    "# Controllo delle credenziali di accesso\n",
    "username = \"admin\"  # Dichiarazione della variabile username con il valore \"admin\"\n",
    "password = \"12345\"  # Dichiarazione della variabile password con il valore \"12345\"\n",
    "is_valid_user = username == \"admin\" and password == \"12345\"  # Assegna True a is_valid_user se username è \"admin\" e password è \"12345\", altrimenti False\n",
    "\n",
    "print(f\"L'utente ha inserito credenziali valide? {is_valid_user}\")  # Stampa il messaggio \"L'utente ha inserito credenziali valide?\" seguito dal valore di is_valid_user\n"
   ]
  },
  {
   "cell_type": "code",
   "execution_count": 23,
   "id": "bef5f4b8",
   "metadata": {},
   "outputs": [
    {
     "name": "stdout",
     "output_type": "stream",
     "text": [
      "La lista contiene numeri pari? True\n",
      "La lista contiene numeri dispari? True\n"
     ]
    }
   ],
   "source": [
    "# Booleani con cicli\n",
    "numeri = [1, 2, 3, 4, 5, 6]  # Dichiarazione della lista numeri con sei elementi\n",
    "ha_pari = any(num % 2 == 0 for num in numeri)  # Assegna True a ha_pari se c'è almeno un numero pari nella lista, altrimenti False\n",
    "ha_dispari = any(num % 2 != 0 for num in numeri)  # Assegna True a ha_dispari se c'è almeno un numero dispari nella lista, altrimenti False\n",
    "\n",
    "print(f\"La lista contiene numeri pari? {ha_pari}\")  # Stampa il messaggio \"La lista contiene numeri pari?\" seguito dal valore di ha_pari\n",
    "print(f\"La lista contiene numeri dispari? {ha_dispari}\")  # Stampa il messaggio \"La lista contiene numeri dispari?\" seguito dal valore di ha_dispari\n"
   ]
  },
  {
   "cell_type": "code",
   "execution_count": 25,
   "id": "f04df51c",
   "metadata": {},
   "outputs": [
    {
     "name": "stdin",
     "output_type": "stream",
     "text": [
      "\n",
      "    GESTIONE DELLE ATTIVITÀ\n",
      "\n",
      "    1. Aggiungi attività\n",
      "    2. Visualizza tutte le attività\n",
      "    3. Marca attività come completata\n",
      "    4. Rimuovi attività completate\n",
      "    5. Visualizza attività completate\n",
      "    6. Visualizza attività non completate\n",
      "    7. Esci\n",
      "\n",
      "    Seleziona un'opzione (1-7):  1\n",
      "Inserisci la descrizione dell'attività:  dormire\n"
     ]
    },
    {
     "name": "stdout",
     "output_type": "stream",
     "text": [
      "Attività 'dormire' aggiunta con successo!\n"
     ]
    },
    {
     "name": "stdin",
     "output_type": "stream",
     "text": [
      "\n",
      "    GESTIONE DELLE ATTIVITÀ\n",
      "\n",
      "    1. Aggiungi attività\n",
      "    2. Visualizza tutte le attività\n",
      "    3. Marca attività come completata\n",
      "    4. Rimuovi attività completate\n",
      "    5. Visualizza attività completate\n",
      "    6. Visualizza attività non completate\n",
      "    7. Esci\n",
      "\n",
      "    Seleziona un'opzione (1-7):  1\n",
      "Inserisci la descrizione dell'attività:  correre\n"
     ]
    },
    {
     "name": "stdout",
     "output_type": "stream",
     "text": [
      "Attività 'correre' aggiunta con successo!\n"
     ]
    },
    {
     "name": "stdin",
     "output_type": "stream",
     "text": [
      "\n",
      "    GESTIONE DELLE ATTIVITÀ\n",
      "\n",
      "    1. Aggiungi attività\n",
      "    2. Visualizza tutte le attività\n",
      "    3. Marca attività come completata\n",
      "    4. Rimuovi attività completate\n",
      "    5. Visualizza attività completate\n",
      "    6. Visualizza attività non completate\n",
      "    7. Esci\n",
      "\n",
      "    Seleziona un'opzione (1-7):  2\n"
     ]
    },
    {
     "name": "stdout",
     "output_type": "stream",
     "text": [
      "1. dormire - Non completata\n",
      "2. correre - Non completata\n"
     ]
    },
    {
     "name": "stdin",
     "output_type": "stream",
     "text": [
      "\n",
      "    GESTIONE DELLE ATTIVITÀ\n",
      "\n",
      "    1. Aggiungi attività\n",
      "    2. Visualizza tutte le attività\n",
      "    3. Marca attività come completata\n",
      "    4. Rimuovi attività completate\n",
      "    5. Visualizza attività completate\n",
      "    6. Visualizza attività non completate\n",
      "    7. Esci\n",
      "\n",
      "    Seleziona un'opzione (1-7):  3\n",
      "Inserisci il numero dell'attività da marcare come completata:  2\n"
     ]
    },
    {
     "name": "stdout",
     "output_type": "stream",
     "text": [
      "Attività 'correre' marcata come completata.\n"
     ]
    },
    {
     "name": "stdin",
     "output_type": "stream",
     "text": [
      "\n",
      "    GESTIONE DELLE ATTIVITÀ\n",
      "\n",
      "    1. Aggiungi attività\n",
      "    2. Visualizza tutte le attività\n",
      "    3. Marca attività come completata\n",
      "    4. Rimuovi attività completate\n",
      "    5. Visualizza attività completate\n",
      "    6. Visualizza attività non completate\n",
      "    7. Esci\n",
      "\n",
      "    Seleziona un'opzione (1-7):  5\n"
     ]
    },
    {
     "name": "stdout",
     "output_type": "stream",
     "text": [
      "1. correre\n"
     ]
    },
    {
     "name": "stdin",
     "output_type": "stream",
     "text": [
      "\n",
      "    GESTIONE DELLE ATTIVITÀ\n",
      "\n",
      "    1. Aggiungi attività\n",
      "    2. Visualizza tutte le attività\n",
      "    3. Marca attività come completata\n",
      "    4. Rimuovi attività completate\n",
      "    5. Visualizza attività completate\n",
      "    6. Visualizza attività non completate\n",
      "    7. Esci\n",
      "\n",
      "    Seleziona un'opzione (1-7):  4\n"
     ]
    },
    {
     "name": "stdout",
     "output_type": "stream",
     "text": [
      "Tutte le attività completate sono state rimosse.\n"
     ]
    },
    {
     "name": "stdin",
     "output_type": "stream",
     "text": [
      "\n",
      "    GESTIONE DELLE ATTIVITÀ\n",
      "\n",
      "    1. Aggiungi attività\n",
      "    2. Visualizza tutte le attività\n",
      "    3. Marca attività come completata\n",
      "    4. Rimuovi attività completate\n",
      "    5. Visualizza attività completate\n",
      "    6. Visualizza attività non completate\n",
      "    7. Esci\n",
      "\n",
      "    Seleziona un'opzione (1-7):  5\n"
     ]
    },
    {
     "name": "stdout",
     "output_type": "stream",
     "text": [
      "Non ci sono attività completate.\n"
     ]
    },
    {
     "name": "stdin",
     "output_type": "stream",
     "text": [
      "\n",
      "    GESTIONE DELLE ATTIVITÀ\n",
      "\n",
      "    1. Aggiungi attività\n",
      "    2. Visualizza tutte le attività\n",
      "    3. Marca attività come completata\n",
      "    4. Rimuovi attività completate\n",
      "    5. Visualizza attività completate\n",
      "    6. Visualizza attività non completate\n",
      "    7. Esci\n",
      "\n",
      "    Seleziona un'opzione (1-7):  7\n"
     ]
    },
    {
     "name": "stdout",
     "output_type": "stream",
     "text": [
      "Uscita dal programma. Arrivederci!\n"
     ]
    }
   ],
   "source": [
    "# Gestione delle Attività (To-Do List)\n",
    "\n",
    "def visualizza_menu():\n",
    "    menu = \"\"\"\n",
    "    GESTIONE DELLE ATTIVITÀ\n",
    "\n",
    "    1. Aggiungi attività\n",
    "    2. Visualizza tutte le attività\n",
    "    3. Marca attività come completata\n",
    "    4. Rimuovi attività completate\n",
    "    5. Visualizza attività completate\n",
    "    6. Visualizza attività non completate\n",
    "    7. Esci\n",
    "\n",
    "    Seleziona un'opzione (1-7): \"\"\"\n",
    "    return input(menu)  # Mostra il menu e ritorna l'opzione selezionata dall'utente\n",
    "\n",
    "def aggiungi_attività(attivita):\n",
    "    descrizione = input(\"Inserisci la descrizione dell'attività: \")  # Chiede la descrizione dell'attività\n",
    "    attivita.append({\n",
    "        \"descrizione\": descrizione,\n",
    "        \"completata\": False\n",
    "    })  # Aggiunge l'attività alla lista con completata impostato a False\n",
    "    print(f\"Attività '{descrizione}' aggiunta con successo!\")  # Conferma l'aggiunta dell'attività\n",
    "\n",
    "def visualizza_tutte_attività(attivita):\n",
    "    if attivita:\n",
    "        for indice, task in enumerate(attivita, start=1):\n",
    "            status = \"Completata\" if task[\"completata\"] else \"Non completata\"\n",
    "            print(f\"{indice}. {task['descrizione']} - {status}\")  # Mostra tutte le attività con il loro stato\n",
    "    else:\n",
    "        print(\"Non ci sono attività nella lista.\")  # Messaggio se non ci sono attività\n",
    "\n",
    "def marca_attività_completata(attivita):\n",
    "    indice = int(input(\"Inserisci il numero dell'attività da marcare come completata: \")) - 1  # Chiede l'indice dell'attività\n",
    "    if 0 <= indice < len(attivita):\n",
    "        attivita[indice][\"completata\"] = True  # Marca l'attività come completata\n",
    "        print(f\"Attività '{attivita[indice]['descrizione']}' marcata come completata.\")  # Conferma l'operazione\n",
    "    else:\n",
    "        print(\"Indice non valido.\")  # Messaggio di errore per indice non valido\n",
    "\n",
    "def rimuovi_attività_completate(attivita):\n",
    "    attivita[:] = [task for task in attivita if not task[\"completata\"]]  # Rimuove le attività completate\n",
    "    print(\"Tutte le attività completate sono state rimosse.\")  # Conferma la rimozione\n",
    "\n",
    "def visualizza_attività_completate(attivita):\n",
    "    completate = [task for task in attivita if task[\"completata\"]]  # Filtra le attività completate\n",
    "    if completate:\n",
    "        for indice, task in enumerate(completate, start=1):\n",
    "            print(f\"{indice}. {task['descrizione']}\")  # Mostra le attività completate\n",
    "    else:\n",
    "        print(\"Non ci sono attività completate.\")  # Messaggio se non ci sono attività completate\n",
    "\n",
    "def visualizza_attività_non_completate(attivita):\n",
    "    non_completate = [task for task in attivita if not task[\"completata\"]]  # Filtra le attività non completate\n",
    "    if non_completate:\n",
    "        for indice, task in enumerate(non_completate, start=1):\n",
    "            print(f\"{indice}. {task['descrizione']}\")  # Mostra le attività non completate\n",
    "    else:\n",
    "        print(\"Non ci sono attività non completate.\")  # Messaggio se non ci sono attività non completate\n",
    "\n",
    "def main():\n",
    "    attivita = []  # Inizializza una lista vuota per le attività\n",
    "    while True:\n",
    "        scelta = visualizza_menu()  # Mostra il menu e ottiene la scelta dell'utente\n",
    "        if scelta == '1':\n",
    "            aggiungi_attività(attivita)  # Aggiungi un'attività\n",
    "        elif scelta == '2':\n",
    "            visualizza_tutte_attività(attivita)  # Visualizza tutte le attività\n",
    "        elif scelta == '3':\n",
    "            marca_attività_completata(attivita)  # Marca un'attività come completata\n",
    "        elif scelta == '4':\n",
    "            rimuovi_attività_completate(attivita)  # Rimuove le attività completate\n",
    "        elif scelta == '5':\n",
    "            visualizza_attività_completate(attivita)  # Visualizza le attività completate\n",
    "        elif scelta == '6':\n",
    "            visualizza_attività_non_completate(attivita)  # Visualizza le attività non completate\n",
    "        elif scelta == '7':\n",
    "            print(\"Uscita dal programma. Arrivederci!\")  # Messaggio di uscita\n",
    "            break  # Esce dal loop e termina il programma\n",
    "        else:\n",
    "            print(\"Opzione non valida. Per favore, seleziona un'opzione tra 1 e 7.\")  # Messaggio di errore per opzione non valida\n",
    "\n",
    "if __name__ == \"__main__\":\n",
    "    main()  # Esegue la funzione main se il file è eseguito come script principale\n"
   ]
  },
  {
   "cell_type": "markdown",
   "id": "f377ed2c-53fc-46e4-b9d8-85fbe89f3605",
   "metadata": {},
   "source": [
    "<div style=\"font-family: Arial, sans-serif; background-color: #e7f3e3; padding: 20px; border-radius: 8px; box-shadow: 0 2px 4px rgba(0,0,0,0.1);\">\n",
    "<h2>Le liste</h2>\n",
    "<p>\n",
    "Le liste sono una struttura dati utilizzata per memorizzare una sequenza ordinata di elementi. Gli elementi di una lista possono essere di qualsiasi tipo, inclusi numeri, stringhe e altre liste. Le liste sono definite utilizzando parentesi quadre [], e gli elementi sono separati da virgole.\n",
    "\n",
    "Le liste sono mutabili, il che significa che è possibile modificare i loro elementi dopo la creazione. Si possono aggiungere, rimuovere o cambiare elementi utilizzando vari metodi e operatori. Alcuni dei metodi più comuni per manipolare le liste includono append per aggiungere un elemento alla fine, remove per rimuovere un elemento specifico, pop per rimuovere e restituire l'elemento in una posizione specifica, e extend per aggiungere tutti gli elementi di un'altra lista.\n",
    "\n",
    "Le liste supportano operazioni di slicing, che permettono di ottenere sotto-sequenze della lista originale. Gli indici nelle liste iniziano da zero, quindi il primo elemento ha indice 0, il secondo ha indice 1, e così via. Gli indici negativi possono essere usati per accedere agli elementi a partire dalla fine della lista.\n",
    "\n",
    "In sintesi, le liste in Python sono una struttura dati flessibile e potente che permette di lavorare con sequenze di dati in modo efficace.</p>\n",
    "</div>\n"
   ]
  },
  {
   "cell_type": "code",
   "execution_count": 1,
   "id": "44e350d3",
   "metadata": {},
   "outputs": [
    {
     "name": "stdout",
     "output_type": "stream",
     "text": [
      "['pesca', 'arancia', 'cocomero']\n"
     ]
    }
   ],
   "source": [
    "frutti = [\"pesca\", \"arancia\", \"cocomero\"]  # Dichiarazione di una lista chiamata frutti contenente tre elementi: \"pesca\", \"arancia\", \"cocomero\"\n",
    "print(frutti)  # Stampa il contenuto della lista frutti\n"
   ]
  },
  {
   "cell_type": "code",
   "execution_count": 2,
   "id": "bcf5f051",
   "metadata": {},
   "outputs": [
    {
     "name": "stdout",
     "output_type": "stream",
     "text": [
      "['arancia', 'cocomero', 'arancia']\n"
     ]
    }
   ],
   "source": [
    "frutti = [\"pesca\", \"arancia\", \"cocomero\"]  # Dichiarazione di una lista chiamata frutti contenente tre elementi: \"pesca\", \"arancia\", \"cocomero\"\n",
    "frutti.append(\"arancia\")  # Aggiunge l'elemento \"arancia\" alla fine della lista frutti\n",
    "frutti.remove(\"pesca\")  # Rimuove il primo elemento \"pesca\" dalla lista frutti\n",
    "print(frutti)  # Stampa il contenuto aggiornato della lista frutti: [\"arancia\", \"cocomero\", \"arancia\"]"
   ]
  },
  {
   "cell_type": "code",
   "execution_count": 3,
   "id": "4a177c1c",
   "metadata": {},
   "outputs": [
    {
     "name": "stdout",
     "output_type": "stream",
     "text": [
      "['arancia', 'cocomero', 'pesca']\n"
     ]
    }
   ],
   "source": [
    "frutti = [\"pesca\", \"arancia\", \"cocomero\"]  # Dichiarazione di una lista chiamata frutti contenente tre elementi: \"pesca\", \"arancia\", \"cocomero\"\n",
    "frutti.sort()  # Ordina la lista frutti in ordine alfabetico\n",
    "print(frutti)  # Stampa il contenuto ordinato della lista frutti: [\"arancia\", \"cocomero\", \"pesca\"]\n"
   ]
  },
  {
   "cell_type": "code",
   "execution_count": 37,
   "id": "eb2a0943",
   "metadata": {},
   "outputs": [
    {
     "name": "stdout",
     "output_type": "stream",
     "text": [
      "Il primo frutto è pesca\n",
      "L'ultimo frutto è cocomero\n"
     ]
    }
   ],
   "source": [
    "frutti = [\"pesca\", \"arancia\", \"cocomero\"]  # Dichiarazione di una lista chiamata frutti contenente tre elementi: \"pesca\", \"arancia\", \"cocomero\"\n",
    "primo_frutto = frutti[0]  # Assegna il primo elemento della lista frutti alla variabile primo_frutto\n",
    "ultimo_frutto = frutti[-1]  # Assegna l'ultimo elemento della lista frutti alla variabile ultimo_frutto\n",
    "\n",
    "print(f\"Il primo frutto è {primo_frutto}\")  # Stampa il messaggio con il primo frutto: \"Il primo frutto è pesca\"\n",
    "print(f\"L'ultimo frutto è {ultimo_frutto}\")  # Stampa il messaggio con l'ultimo frutto: \"L'ultimo frutto è cocomero\"\n"
   ]
  },
  {
   "cell_type": "code",
   "execution_count": 4,
   "id": "326ab937",
   "metadata": {},
   "outputs": [
    {
     "name": "stdout",
     "output_type": "stream",
     "text": [
      "Mi piace mangiare la pesca\n",
      "Mi piace mangiare la arancia\n",
      "Mi piace mangiare la cocomero\n"
     ]
    }
   ],
   "source": [
    "# Iterazione su una lista\n",
    "frutti = [\"pesca\", \"arancia\", \"cocomero\"]  # Dichiarazione di una lista chiamata frutti contenente tre elementi: \"pesca\", \"arancia\", \"cocomero\"\n",
    "for frutto in frutti:  # Ciclo for per iterare su ogni elemento della lista frutti\n",
    "    print(f\"Mi piace mangiare la {frutto}\")  # Stampa il messaggio \"Mi piace mangiare la {frutto}\" per ogni elemento della lista\n"
   ]
  },
  {
   "cell_type": "code",
   "execution_count": 52,
   "id": "2e605f4f",
   "metadata": {},
   "outputs": [
    {
     "name": "stdout",
     "output_type": "stream",
     "text": [
      "\n",
      "    GESTIONE DELLA LIBRERIA PERSONALE\n",
      "\n",
      "    1. Aggiungi libro\n",
      "    2. Visualizza tutti i libri\n",
      "    3. Cerca libro per titolo\n",
      "    4. Cerca libro per autore\n",
      "    5. Visualizza libri letti\n",
      "    6. Visualizza libri non letti\n",
      "    7. Esci\n",
      "\n",
      "    Seleziona un'opzione (1-7): 1\n",
      "Inserisci il titolo del libro: Harry Potter\n",
      "Inserisci l'autore del libro: J. K. Rowling\n",
      "Inserisci l'anno di pubblicazione: 1997\n",
      "Hai letto questo libro? (sì/no): si\n",
      "Libro 'Harry Potter' di J. K. Rowling aggiunto con successo!\n",
      "\n",
      "    GESTIONE DELLA LIBRERIA PERSONALE\n",
      "\n",
      "    1. Aggiungi libro\n",
      "    2. Visualizza tutti i libri\n",
      "    3. Cerca libro per titolo\n",
      "    4. Cerca libro per autore\n",
      "    5. Visualizza libri letti\n",
      "    6. Visualizza libri non letti\n",
      "    7. Esci\n",
      "\n",
      "    Seleziona un'opzione (1-7): 2\n",
      "Titolo: Harry Potter, Autore: J. K. Rowling, Anno: 1997, Stato: Non letto\n",
      "\n",
      "    GESTIONE DELLA LIBRERIA PERSONALE\n",
      "\n",
      "    1. Aggiungi libro\n",
      "    2. Visualizza tutti i libri\n",
      "    3. Cerca libro per titolo\n",
      "    4. Cerca libro per autore\n",
      "    5. Visualizza libri letti\n",
      "    6. Visualizza libri non letti\n",
      "    7. Esci\n",
      "\n",
      "    Seleziona un'opzione (1-7): 3\n",
      "Inserisci il titolo del libro da cercare: Harry Potter\n",
      "Titolo: Harry Potter, Autore: J. K. Rowling, Anno: 1997, Stato: Non letto\n",
      "\n",
      "    GESTIONE DELLA LIBRERIA PERSONALE\n",
      "\n",
      "    1. Aggiungi libro\n",
      "    2. Visualizza tutti i libri\n",
      "    3. Cerca libro per titolo\n",
      "    4. Cerca libro per autore\n",
      "    5. Visualizza libri letti\n",
      "    6. Visualizza libri non letti\n",
      "    7. Esci\n",
      "\n",
      "    Seleziona un'opzione (1-7): 4\n",
      "Inserisci il nome dell'autore da cercare: J. K. Rowling\n",
      "Titolo: Harry Potter, Autore: J. K. Rowling, Anno: 1997, Stato: Non letto\n",
      "\n",
      "    GESTIONE DELLA LIBRERIA PERSONALE\n",
      "\n",
      "    1. Aggiungi libro\n",
      "    2. Visualizza tutti i libri\n",
      "    3. Cerca libro per titolo\n",
      "    4. Cerca libro per autore\n",
      "    5. Visualizza libri letti\n",
      "    6. Visualizza libri non letti\n",
      "    7. Esci\n",
      "\n",
      "    Seleziona un'opzione (1-7): 5\n",
      "Non hai letto nessun libro.\n",
      "\n",
      "    GESTIONE DELLA LIBRERIA PERSONALE\n",
      "\n",
      "    1. Aggiungi libro\n",
      "    2. Visualizza tutti i libri\n",
      "    3. Cerca libro per titolo\n",
      "    4. Cerca libro per autore\n",
      "    5. Visualizza libri letti\n",
      "    6. Visualizza libri non letti\n",
      "    7. Esci\n",
      "\n",
      "    Seleziona un'opzione (1-7): 6\n",
      "Titolo: Harry Potter, Autore: J. K. Rowling, Anno: 1997\n",
      "\n",
      "    GESTIONE DELLA LIBRERIA PERSONALE\n",
      "\n",
      "    1. Aggiungi libro\n",
      "    2. Visualizza tutti i libri\n",
      "    3. Cerca libro per titolo\n",
      "    4. Cerca libro per autore\n",
      "    5. Visualizza libri letti\n",
      "    6. Visualizza libri non letti\n",
      "    7. Esci\n",
      "\n",
      "    Seleziona un'opzione (1-7): 7\n",
      "Uscita dal programma. Arrivederci!\n"
     ]
    }
   ],
   "source": [
    "# Gestione della Libreria Personale\n",
    "\n",
    "def visualizza_menu():\n",
    "    menu = \"\"\"\n",
    "    GESTIONE DELLA LIBRERIA PERSONALE\n",
    "\n",
    "    1. Aggiungi libro\n",
    "    2. Visualizza tutti i libri\n",
    "    3. Cerca libro per titolo\n",
    "    4. Cerca libro per autore\n",
    "    5. Visualizza libri letti\n",
    "    6. Visualizza libri non letti\n",
    "    7. Esci\n",
    "\n",
    "    Seleziona un'opzione (1-7): \"\"\"\n",
    "    return input(menu)\n",
    "\n",
    "def aggiungi_libro(libreria):\n",
    "    titolo = input(\"Inserisci il titolo del libro: \")\n",
    "    autore = input(\"Inserisci l'autore del libro: \")\n",
    "    anno = input(\"Inserisci l'anno di pubblicazione: \")\n",
    "    letto = input(\"Hai letto questo libro? (sì/no): \").lower() == 'sì'\n",
    "    libreria.append({\n",
    "        \"titolo\": titolo,\n",
    "        \"autore\": autore,\n",
    "        \"anno\": anno,\n",
    "        \"letto\": letto\n",
    "    })\n",
    "    print(f\"Libro '{titolo}' di {autore} aggiunto con successo!\")\n",
    "\n",
    "def visualizza_tutti_libri(libreria):\n",
    "    if libreria:\n",
    "        for libro in libreria:\n",
    "            stato = \"Letto\" if libro[\"letto\"] else \"Non letto\"\n",
    "            print(f\"Titolo: {libro['titolo']}, Autore: {libro['autore']}, Anno: {libro['anno']}, Stato: {stato}\")\n",
    "    else:\n",
    "        print(\"La libreria è vuota.\")\n",
    "\n",
    "def cerca_libro_per_titolo(libreria):\n",
    "    titolo = input(\"Inserisci il titolo del libro da cercare: \")\n",
    "    trovati = [libro for libro in libreria if titolo.lower() in libro[\"titolo\"].lower()]\n",
    "    if trovati:\n",
    "        for libro in trovati:\n",
    "            stato = \"Letto\" if libro[\"letto\"] else \"Non letto\"\n",
    "            print(f\"Titolo: {libro['titolo']}, Autore: {libro['autore']}, Anno: {libro['anno']}, Stato: {stato}\")\n",
    "    else:\n",
    "        print(f\"Nessun libro trovato con il titolo '{titolo}'.\")\n",
    "\n",
    "def cerca_libro_per_autore(libreria):\n",
    "    autore = input(\"Inserisci il nome dell'autore da cercare: \")\n",
    "    trovati = [libro for libro in libreria if autore.lower() in libro[\"autore\"].lower()]\n",
    "    if trovati:\n",
    "        for libro in trovati:\n",
    "            stato = \"Letto\" if libro[\"letto\"] else \"Non letto\"\n",
    "            print(f\"Titolo: {libro['titolo']}, Autore: {libro['autore']}, Anno: {libro['anno']}, Stato: {stato}\")\n",
    "    else:\n",
    "        print(f\"Nessun libro trovato dell'autore '{autore}'.\")\n",
    "\n",
    "def visualizza_libri_letti(libreria):\n",
    "    letti = [libro for libro in libreria if libro[\"letto\"]]\n",
    "    if letti:\n",
    "        for libro in letti:\n",
    "            print(f\"Titolo: {libro['titolo']}, Autore: {libro['autore']}, Anno: {libro['anno']}\")\n",
    "    else:\n",
    "        print(\"Non hai letto nessun libro.\")\n",
    "\n",
    "def visualizza_libri_non_letti(libreria):\n",
    "    non_letti = [libro for libro in libreria if not libro[\"letto\"]]\n",
    "    if non_letti:\n",
    "        for libro in non_letti:\n",
    "            print(f\"Titolo: {libro['titolo']}, Autore: {libro['autore']}, Anno: {libro['anno']}\")\n",
    "    else:\n",
    "        print(\"Hai letto tutti i libri.\")\n",
    "\n",
    "def main():\n",
    "    libreria = []\n",
    "    while True:\n",
    "        scelta = visualizza_menu()\n",
    "        if scelta == '1':\n",
    "            aggiungi_libro(libreria)\n",
    "        elif scelta == '2':\n",
    "            visualizza_tutti_libri(libreria)\n",
    "        elif scelta == '3':\n",
    "            cerca_libro_per_titolo(libreria)\n",
    "        elif scelta == '4':\n",
    "            cerca_libro_per_autore(libreria)\n",
    "        elif scelta == '5':\n",
    "            visualizza_libri_letti(libreria)\n",
    "        elif scelta == '6':\n",
    "            visualizza_libri_non_letti(libreria)\n",
    "        elif scelta == '7':\n",
    "            print(\"Uscita dal programma. Arrivederci!\")\n",
    "            break\n",
    "        else:\n",
    "            print(\"Opzione non valida. Per favore, seleziona un'opzione tra 1 e 7.\")\n",
    "\n",
    "if __name__ == \"__main__\":\n",
    "    main()"
   ]
  },
  {
   "cell_type": "markdown",
   "id": "3b5564ca-bd30-4add-a781-304ceb992b2f",
   "metadata": {},
   "source": [
    "<div style=\"font-family: Arial, sans-serif; background-color: #e7f3e3; padding: 20px; border-radius: 8px; box-shadow: 0 2px 4px rgba(0,0,0,0.1);\">\n",
    "<h2>Le Tuple</h2>\n",
    "<p>\n",
    "Una tupla è una struttura dati immutabile che può contenere un insieme di elementi ordinati. Gli elementi in una tupla possono essere di diversi tipi di dati (ad esempio, numeri, stringhe, oggetti, ecc.). Una volta creata, i valori all'interno di una tupla non possono essere modificati, aggiunti o rimossi. Le tuple sono comunemente utilizzate per rappresentare collezioni di dati che non dovrebbero cambiare durante l'esecuzione del programma e possono essere utilizzate come chiavi in un dizionario. La sintassi per definire una tupla coinvolge l'uso di parentesi tonde per racchiudere gli elementi.\n",
    "</p>\n",
    "</div>\n"
   ]
  },
  {
   "cell_type": "code",
   "execution_count": 1,
   "id": "a919cc14-7958-4593-a333-b0c82eb2563e",
   "metadata": {},
   "outputs": [
    {
     "name": "stdout",
     "output_type": "stream",
     "text": [
      "La media dei voti del gruppo di studenti è: 87.67\n"
     ]
    }
   ],
   "source": [
    "# Step 1: Creare una tupla per rappresentare uno studente\n",
    "studente1 = (\"Alice\", 20, 85)\n",
    "studente2 = (\"Bob\", 21, 90)\n",
    "studente3 = (\"Charlie\", 19, 88)\n",
    "\n",
    "# Step 2: Creare una lista di tuple per rappresentare un gruppo di studenti\n",
    "studenti = [studente1, studente2, studente3]\n",
    "\n",
    "# Step 3: Scrivere una funzione per calcolare la media dei voti\n",
    "def calcola_media_voti(studenti):\n",
    "    totale_voti = 0\n",
    "    numero_studenti = len(studenti)\n",
    "    \n",
    "    for studente in studenti:\n",
    "        # Il voto è il terzo elemento della tupla\n",
    "        voto = studente[2]\n",
    "        totale_voti += voto\n",
    "        \n",
    "    media_voti = totale_voti / numero_studenti\n",
    "    return media_voti\n",
    "\n",
    "# Calcolare la media dei voti\n",
    "media = calcola_media_voti(studenti)\n",
    "print(f\"La media dei voti del gruppo di studenti è: {media:.2f}\")\n"
   ]
  },
  {
   "cell_type": "markdown",
   "id": "d62c6b81-6259-4a28-9361-c776947d433e",
   "metadata": {},
   "source": [
    "<div style=\"font-family: Arial, sans-serif; background-color: #e7f3e3; padding: 20px; border-radius: 8px; box-shadow: 0 2px 4px rgba(0,0,0,0.1);\">\n",
    "<h2>I Set</h2>\n",
    "<p>\n",
    "Un set è una struttura dati non ordinata che memorizza elementi unici. Gli elementi all'interno di un set non possono essere duplicati e non hanno un ordine specifico. Un set viene comunemente utilizzato per testare l'appartenenza, eliminare duplicati da una sequenza e effettuare operazioni matematiche come unioni, intersezioni e differenze. La sintassi per definire un set prevede l'uso di parentesi graffe per racchiudere gli elementi, oppure l'uso della funzione set() per creare un set da un'altra collezione. I set sono mutabili, il che significa che è possibile aggiungere o rimuovere elementi dopo la loro creazione.\n",
    "</p>\n",
    "</div>\n"
   ]
  },
  {
   "cell_type": "markdown",
   "id": "39e6d060-b639-4810-be51-d72169265a63",
   "metadata": {},
   "source": [
    "<div style=\"font-family: Arial, sans-serif; background-color: #e7f3e3; padding: 20px; border-radius: 8px; box-shadow: 0 2px 4px rgba(0,0,0,0.1);\">\n",
    "<h3>\n",
    "Gestione delle Parole in un Testo</h3>\n",
    "</div>"
   ]
  },
  {
   "cell_type": "code",
   "execution_count": 3,
   "id": "ae43cc53-cb9a-4579-8b7c-9bfdad2db72b",
   "metadata": {},
   "outputs": [
    {
     "name": "stdout",
     "output_type": "stream",
     "text": [
      "Parole uniche: {'ciao', 'tu', 'stai', 'grazie', 'e', 'sto', 'bene', 'come'}\n",
      "Conteggio delle parole: {'ciao': 3, 'come': 2, 'stai': 2, 'sto': 1, 'bene': 1, 'grazie': 1, 'e': 1, 'tu': 1}\n"
     ]
    }
   ],
   "source": [
    "def analizza_testo(testo):\n",
    "    # Rimuovere la punteggiatura e convertire il testo in minuscolo\n",
    "    testo = testo.lower()\n",
    "    testo = testo.replace('.', '').replace(',', '').replace('!', '').replace('?', '')\n",
    "\n",
    "    # Dividere il testo in parole\n",
    "    parole = testo.split()\n",
    "\n",
    "    # Creare un set per le parole uniche\n",
    "    parole_uniche = set(parole)\n",
    "\n",
    "    # Creare un dizionario per contare le occorrenze delle parole\n",
    "    contatore_parole = {}\n",
    "\n",
    "    for parola in parole:\n",
    "        if parola in contatore_parole:\n",
    "            contatore_parole[parola] += 1\n",
    "        else:\n",
    "            contatore_parole[parola] = 1\n",
    "\n",
    "    return parole_uniche, contatore_parole\n",
    "\n",
    "# Esempio di utilizzo\n",
    "testo = \"Ciao! Come stai? Ciao, ciao! Sto bene, grazie. E tu come stai?\"\n",
    "parole_uniche, contatore_parole = analizza_testo(testo)\n",
    "\n",
    "print(\"Parole uniche:\", parole_uniche)\n",
    "print(\"Conteggio delle parole:\", contatore_parole)\n"
   ]
  },
  {
   "cell_type": "markdown",
   "id": "0325a1cd-b6f2-4435-b949-7fd674bee6ee",
   "metadata": {},
   "source": [
    "<div style=\"font-family: Arial, sans-serif; background-color: #e7f3e3; padding: 20px; border-radius: 8px; box-shadow: 0 2px 4px rgba(0,0,0,0.1);\">\n",
    "<h3>\n",
    "Operazioni sui Set di Studenti</h3>\n",
    "</div>"
   ]
  },
  {
   "cell_type": "code",
   "execution_count": 4,
   "id": "a5aa4833-f869-4b50-9948-f0a60c68f8c4",
   "metadata": {},
   "outputs": [
    {
     "name": "stdout",
     "output_type": "stream",
     "text": [
      "Studenti iscritti a entrambi i corsi: {'Charlie', 'Alice'}\n",
      "Studenti iscritti solo al primo corso: {'Bob', 'David'}\n",
      "Studenti iscritti solo al secondo corso: {'Frank', 'Eve'}\n"
     ]
    }
   ],
   "source": [
    "# Step 1: Creare due set per rappresentare gli studenti iscritti a ciascun corso\n",
    "corso1 = {\"Alice\", \"Bob\", \"Charlie\", \"David\"}\n",
    "corso2 = {\"Charlie\", \"Eve\", \"Frank\", \"Alice\"}\n",
    "\n",
    "# Step 2: Trovare l'intersezione dei due set\n",
    "studenti_in_entrambi_i_corsi = corso1.intersection(corso2)\n",
    "\n",
    "# Step 3: Trovare la differenza tra i set\n",
    "studenti_solo_primo_corso = corso1.difference(corso2)\n",
    "studenti_solo_secondo_corso = corso2.difference(corso1)\n",
    "\n",
    "# Output dei risultati\n",
    "print(\"Studenti iscritti a entrambi i corsi:\", studenti_in_entrambi_i_corsi)\n",
    "print(\"Studenti iscritti solo al primo corso:\", studenti_solo_primo_corso)\n",
    "print(\"Studenti iscritti solo al secondo corso:\", studenti_solo_secondo_corso)\n"
   ]
  },
  {
   "cell_type": "markdown",
   "id": "6febbac4-d4dc-4929-86fa-d8e2ffe51c65",
   "metadata": {},
   "source": [
    "<div style=\"font-family: Arial, sans-serif; background-color: #e7f3e3; padding: 20px; border-radius: 8px; box-shadow: 0 2px 4px rgba(0,0,0,0.1);\">\n",
    "<h2>I dizionari</h2>\n",
    "<p>\n",
    "I dizionari sono una struttura dati che memorizza coppie chiave-valore. Ogni chiave è unica all'interno del dizionario e viene utilizzata per accedere al valore corrispondente. Le chiavi possono essere di qualsiasi tipo immutabile, come stringhe, numeri o tuple, mentre i valori possono essere di qualsiasi tipo, compresi altri dizionari. I dizionari sono mutabili, il che significa che è possibile aggiungere, modificare o rimuovere coppie chiave-valore dopo la creazione. I dizionari sono definiti utilizzando parentesi graffe {}, con coppie chiave-valore separate da due punti :.</p>\n",
    "</div>\n"
   ]
  },
  {
   "cell_type": "code",
   "execution_count": 5,
   "id": "0789f792",
   "metadata": {},
   "outputs": [
    {
     "name": "stdout",
     "output_type": "stream",
     "text": [
      "{'nome': 'Esther', 'età': 22, 'corso': 'Informatica'}\n"
     ]
    }
   ],
   "source": [
    "# Dizionario semplice\n",
    "studente = {  # Dichiarazione di un dizionario chiamato studente con tre coppie chiave-valore\n",
    "    \"nome\": \"Esther\",  # Chiave \"nome\" con valore \"Esther\"\n",
    "    \"età\": 22,  # Chiave \"età\" con valore 22\n",
    "    \"corso\": \"Informatica\"  # Chiave \"corso\" con valore \"Informatica\"\n",
    "}\n",
    "\n",
    "print(studente)  # Stampa il contenuto del dizionario studente\n"
   ]
  },
  {
   "cell_type": "code",
   "execution_count": 6,
   "id": "4a5acea3",
   "metadata": {},
   "outputs": [
    {
     "name": "stdout",
     "output_type": "stream",
     "text": [
      "Nome: Esther\n",
      "Età: 22\n"
     ]
    }
   ],
   "source": [
    "# Dizionario semplice\n",
    "studente = {  # Dichiarazione di un dizionario chiamato studente con tre coppie chiave-valore\n",
    "    \"nome\": \"Esther\",  # Chiave \"nome\" con valore \"Esther\"\n",
    "    \"età\": 22,  # Chiave \"età\" con valore 22\n",
    "    \"corso\": \"Informatica\"  # Chiave \"corso\" con valore \"Informatica\"\n",
    "}\n",
    "\n",
    "nome = studente[\"nome\"]  # Assegna il valore associato alla chiave \"nome\" alla variabile nome\n",
    "età = studente[\"età\"]  # Assegna il valore associato alla chiave \"età\" alla variabile età\n",
    "\n",
    "print(f\"Nome: {nome}\")  # Stampa il messaggio \"Nome: Esther\"\n",
    "print(f\"Età: {età}\")  # Stampa il messaggio \"Età: 22\"\n"
   ]
  },
  {
   "cell_type": "code",
   "execution_count": 7,
   "id": "385f7433",
   "metadata": {},
   "outputs": [
    {
     "name": "stdout",
     "output_type": "stream",
     "text": [
      "{'nome': 'Esther', 'età': 22, 'corso': 'Informatica', 'matricola': '123456'}\n",
      "{'nome': 'Esther', 'corso': 'Informatica', 'matricola': '123456'}\n"
     ]
    }
   ],
   "source": [
    "# Dizionario semplice\n",
    "studente = {  # Dichiarazione di un dizionario chiamato studente con tre coppie chiave-valore\n",
    "    \"nome\": \"Esther\",  # Chiave \"nome\" con valore \"Esther\"\n",
    "    \"età\": 22,  # Chiave \"età\" con valore 22\n",
    "    \"corso\": \"Informatica\"  # Chiave \"corso\" con valore \"Informatica\"\n",
    "}\n",
    "\n",
    "# Aggiungere una nuova chiave\n",
    "studente[\"matricola\"] = \"123456\"  # Aggiunge una nuova chiave \"matricola\" con valore \"123456\" al dizionario studente\n",
    "print(studente)  # Stampa il dizionario aggiornato con la nuova chiave\n",
    "\n",
    "# Rimuovere una chiave\n",
    "del studente[\"età\"]  # Rimuove la chiave \"età\" e il suo valore associato dal dizionario studente\n",
    "print(studente)  # Stampa il dizionario aggiornato senza la chiave \"età\"\n"
   ]
  },
  {
   "cell_type": "code",
   "execution_count": 8,
   "id": "1f0dde1a",
   "metadata": {},
   "outputs": [
    {
     "name": "stdout",
     "output_type": "stream",
     "text": [
      "nome: Esther\n",
      "età: 22\n",
      "corso: Informatica\n"
     ]
    }
   ],
   "source": [
    "studente = {  # Dichiarazione di un dizionario chiamato studente con tre coppie chiave-valore\n",
    "    \"nome\": \"Esther\",  # Chiave \"nome\" con valore \"Esther\"\n",
    "    \"età\": 22,  # Chiave \"età\" con valore 22\n",
    "    \"corso\": \"Informatica\"  # Chiave \"corso\" con valore \"Informatica\"\n",
    "}\n",
    "\n",
    "for chiave, valore in studente.items():  # Itera su ogni coppia chiave-valore nel dizionario studente\n",
    "    print(f\"{chiave}: {valore}\")  # Stampa la chiave e il valore nel formato \"chiave: valore\"\n"
   ]
  },
  {
   "cell_type": "code",
   "execution_count": 9,
   "id": "52b15dd8",
   "metadata": {},
   "outputs": [
    {
     "name": "stdout",
     "output_type": "stream",
     "text": [
      "{'classe1': {'insegnante': 'Prof. Tallo', 'studenti': ['Alice', 'Marco', 'Sara']}, 'classe2': {'insegnante': 'Prof. Bianchi', 'studenti': ['Luca', 'Paolo', 'Marta']}}\n"
     ]
    }
   ],
   "source": [
    "# Dizionari annidati\n",
    "scuola = {  # Dichiarazione di un dizionario chiamato scuola con due chiavi, ciascuna contenente un altro dizionario\n",
    "    \"classe1\": {  # Dizionario per la classe1\n",
    "        \"insegnante\": \"Prof. Tallo\",  # Chiave \"insegnante\" con valore \"Prof. Tallo\"\n",
    "        \"studenti\": [\"Alice\", \"Marco\", \"Sara\"]  # Chiave \"studenti\" con valore una lista di studenti\n",
    "    },\n",
    "    \"classe2\": {  # Dizionario per la classe2\n",
    "        \"insegnante\": \"Prof. Bianchi\",  # Chiave \"insegnante\" con valore \"Prof. Bianchi\"\n",
    "        \"studenti\": [\"Luca\", \"Paolo\", \"Marta\"]  # Chiave \"studenti\" con valore una lista di studenti\n",
    "    }\n",
    "}\n",
    "\n",
    "print(scuola)  # Stampa il contenuto del dizionario scuola\n"
   ]
  },
  {
   "cell_type": "code",
   "execution_count": 10,
   "id": "d0c9dd98",
   "metadata": {},
   "outputs": [
    {
     "name": "stdout",
     "output_type": "stream",
     "text": [
      "{'scienze': ['Fisica', 'Chimica', 'Biologia'], 'letteratura': ['Poesia', 'Romanzi', 'Drammi'], 'tecnologia': ['Informatica', 'Elettronica', 'Robotica']}\n"
     ]
    }
   ],
   "source": [
    "# Dizionari e liste\n",
    "biblioteca = {  # Dichiarazione di un dizionario chiamato biblioteca con tre chiavi, ciascuna contenente una lista di argomenti\n",
    "    \"scienze\": [\"Fisica\", \"Chimica\", \"Biologia\"],  # Chiave \"scienze\" con valore una lista di argomenti scientifici\n",
    "    \"letteratura\": [\"Poesia\", \"Romanzi\", \"Drammi\"],  # Chiave \"letteratura\" con valore una lista di generi letterari\n",
    "    \"tecnologia\": [\"Informatica\", \"Elettronica\", \"Robotica\"]  # Chiave \"tecnologia\" con valore una lista di discipline tecnologiche\n",
    "}\n",
    "\n",
    "print(biblioteca)  # Stampa il contenuto del dizionario biblioteca\n"
   ]
  },
  {
   "cell_type": "code",
   "execution_count": 11,
   "id": "c19da0ad",
   "metadata": {},
   "outputs": [
    {
     "name": "stdout",
     "output_type": "stream",
     "text": [
      "Il dizionario ha la chiave 'età'? True\n",
      "Il dizionario ha la chiave 'matricola'? False\n"
     ]
    }
   ],
   "source": [
    "studente = {  # Dichiarazione di un dizionario chiamato studente con tre coppie chiave-valore\n",
    "    \"nome\": \"Esther\",  # Chiave \"nome\" con valore \"Esther\"\n",
    "    \"età\": 22,  # Chiave \"età\" con valore 22\n",
    "    \"corso\": \"Informatica\"  # Chiave \"corso\" con valore \"Informatica\"\n",
    "}\n",
    "\n",
    "has_età = \"età\" in studente  # Verifica se la chiave \"età\" è presente nel dizionario studente e assegna il risultato a has_età\n",
    "has_matricola = \"matricola\" in studente  # Verifica se la chiave \"matricola\" è presente nel dizionario studente e assegna il risultato a has_matricola\n",
    "\n",
    "print(f\"Il dizionario ha la chiave 'età'? {has_età}\")  # Stampa il messaggio seguito dal valore di has_età\n",
    "print(f\"Il dizionario ha la chiave 'matricola'? {has_matricola}\")  # Stampa il messaggio seguito dal valore di has_matricola\n"
   ]
  },
  {
   "cell_type": "code",
   "execution_count": 12,
   "id": "3944c998",
   "metadata": {},
   "outputs": [
    {
     "name": "stdout",
     "output_type": "stream",
     "text": [
      "{'nome': 'Esther', 'età': 23, 'corso': 'Informatica'}\n"
     ]
    }
   ],
   "source": [
    "studente = {  # Dichiarazione di un dizionario chiamato studente con tre coppie chiave-valore\n",
    "    \"nome\": \"Esther\",  # Chiave \"nome\" con valore \"Esther\"\n",
    "    \"età\": 22,  # Chiave \"età\" con valore 22\n",
    "    \"corso\": \"Informatica\"  # Chiave \"corso\" con valore \"Informatica\"\n",
    "}\n",
    "\n",
    "# Modifica del valore di una chiave\n",
    "studente[\"età\"] = 23  # Modifica il valore della chiave \"età\" da 22 a 23\n",
    "print(studente)  # Stampa il contenuto aggiornato del dizionario studente\n"
   ]
  },
  {
   "cell_type": "code",
   "execution_count": 13,
   "id": "6cdaea29",
   "metadata": {},
   "outputs": [
    {
     "name": "stdout",
     "output_type": "stream",
     "text": [
      "{'mela': 3, 'banana': 2, 'arancia': 1}\n"
     ]
    }
   ],
   "source": [
    "# Conteggio degli elementi in una lista usando un dizionario\n",
    "frutti = [\"mela\", \"banana\", \"mela\", \"arancia\", \"banana\", \"mela\"]  # Lista di frutti con elementi ripetuti\n",
    "\n",
    "conteggio_frutti = {}  # Dizionario vuoto per memorizzare il conteggio dei frutti\n",
    "for frutto in frutti:  # Itera su ogni frutto nella lista frutti\n",
    "    if frutto in conteggio_frutti:  # Se il frutto è già presente nel dizionario conteggio_frutti\n",
    "        conteggio_frutti[frutto] += 1  # Incrementa il conteggio del frutto di 1\n",
    "    else:\n",
    "        conteggio_frutti[frutto] = 1  # Aggiunge il frutto al dizionario con un conteggio iniziale di 1\n",
    "\n",
    "print(conteggio_frutti)  # Stampa il dizionario con il conteggio di ogni frutto\n"
   ]
  },
  {
   "cell_type": "code",
   "execution_count": 54,
   "id": "5cc9002c",
   "metadata": {},
   "outputs": [
    {
     "name": "stdout",
     "output_type": "stream",
     "text": [
      "Prodotto 'Laptop' aggiunto con successo!\n",
      "Prodotto 'Smartphone' aggiunto con successo!\n",
      "Prodotto 'Tavolo' aggiunto con successo!\n",
      "\n",
      "Tutti i prodotti:\n",
      "Codice: 001\n",
      "Nome: Laptop\n",
      "Categoria: Elettronica\n",
      "Prezzo: €999.99\n",
      "Quantità: 10\n",
      "--------------------\n",
      "Codice: 002\n",
      "Nome: Smartphone\n",
      "Categoria: Elettronica\n",
      "Prezzo: €699.99\n",
      "Quantità: 20\n",
      "--------------------\n",
      "Codice: 003\n",
      "Nome: Tavolo\n",
      "Categoria: Arredamento\n",
      "Prezzo: €149.99\n",
      "Quantità: 5\n",
      "--------------------\n",
      "\n",
      "Cerca prodotto per nome 'Laptop':\n",
      "Nome: Laptop\n",
      "Categoria: Elettronica\n",
      "Prezzo: €999.99\n",
      "Quantità: 10\n",
      "--------------------\n",
      "\n",
      "Modifica prodotto con codice '001':\n",
      "Prodotto con codice 001 aggiornato con successo!\n",
      "\n",
      "Tutti i prodotti dopo la modifica:\n",
      "Codice: 001\n",
      "Nome: Laptop\n",
      "Categoria: Elettronica\n",
      "Prezzo: €899.99\n",
      "Quantità: 8\n",
      "--------------------\n",
      "Codice: 002\n",
      "Nome: Smartphone\n",
      "Categoria: Elettronica\n",
      "Prezzo: €699.99\n",
      "Quantità: 20\n",
      "--------------------\n",
      "Codice: 003\n",
      "Nome: Tavolo\n",
      "Categoria: Arredamento\n",
      "Prezzo: €149.99\n",
      "Quantità: 5\n",
      "--------------------\n",
      "\n",
      "Elimina prodotto con codice '002':\n",
      "Prodotto con codice 002 eliminato con successo!\n",
      "\n",
      "Tutti i prodotti dopo l'eliminazione:\n",
      "Codice: 001\n",
      "Nome: Laptop\n",
      "Categoria: Elettronica\n",
      "Prezzo: €899.99\n",
      "Quantità: 8\n",
      "--------------------\n",
      "Codice: 003\n",
      "Nome: Tavolo\n",
      "Categoria: Arredamento\n",
      "Prezzo: €149.99\n",
      "Quantità: 5\n",
      "--------------------\n",
      "\n",
      "Visualizza prodotti per categoria 'Elettronica':\n",
      "Nome: Laptop\n",
      "Categoria: Elettronica\n",
      "Prezzo: €899.99\n",
      "Quantità: 8\n",
      "--------------------\n"
     ]
    }
   ],
   "source": [
    "# Sistema di Gestione dell'Inventario del Negozio\n",
    "\n",
    "# Dizionario per memorizzare i prodotti\n",
    "inventario = {\n",
    "    \"prodotti\": {}\n",
    "}\n",
    "\n",
    "# Funzione per aggiungere un prodotto all'inventario\n",
    "def aggiungi_prodotto(inventario, codice, nome, categoria, prezzo, quantita):\n",
    "    inventario[\"prodotti\"][codice] = {\n",
    "        \"nome\": nome,\n",
    "        \"categoria\": categoria,\n",
    "        \"prezzo\": prezzo,\n",
    "        \"quantita\": quantita\n",
    "    }\n",
    "    print(f\"Prodotto '{nome}' aggiunto con successo!\")\n",
    "\n",
    "# Funzione per visualizzare tutti i prodotti\n",
    "def visualizza_tutti_prodotti(inventario):\n",
    "    if inventario[\"prodotti\"]:\n",
    "        for codice, dettagli in inventario[\"prodotti\"].items():\n",
    "            print(f\"Codice: {codice}\")\n",
    "            print(f\"Nome: {dettagli['nome']}\")\n",
    "            print(f\"Categoria: {dettagli['categoria']}\")\n",
    "            print(f\"Prezzo: €{dettagli['prezzo']:.2f}\")\n",
    "            print(f\"Quantità: {dettagli['quantita']}\")\n",
    "            print(\"-\" * 20)\n",
    "    else:\n",
    "        print(\"L'inventario è vuoto.\")\n",
    "\n",
    "# Funzione per cercare un prodotto per nome\n",
    "def cerca_prodotto_per_nome(inventario, nome):\n",
    "    trovati = [dettagli for codice, dettagli in inventario[\"prodotti\"].items() if nome.lower() in dettagli[\"nome\"].lower()]\n",
    "    if trovati:\n",
    "        for dettagli in trovati:\n",
    "            print(f\"Nome: {dettagli['nome']}\")\n",
    "            print(f\"Categoria: {dettagli['categoria']}\")\n",
    "            print(f\"Prezzo: €{dettagli['prezzo']:.2f}\")\n",
    "            print(f\"Quantità: {dettagli['quantita']}\")\n",
    "            print(\"-\" * 20)\n",
    "    else:\n",
    "        print(f\"Nessun prodotto trovato con il nome '{nome}'.\")\n",
    "\n",
    "# Funzione per modificare le informazioni di un prodotto\n",
    "def modifica_prodotto(inventario, codice, nome=None, categoria=None, prezzo=None, quantita=None):\n",
    "    if codice in inventario[\"prodotti\"]:\n",
    "        if nome:\n",
    "            inventario[\"prodotti\"][codice][\"nome\"] = nome\n",
    "        if categoria:\n",
    "            inventario[\"prodotti\"][codice][\"categoria\"] = categoria\n",
    "        if prezzo is not None:\n",
    "            inventario[\"prodotti\"][codice][\"prezzo\"] = prezzo\n",
    "        if quantita is not None:\n",
    "            inventario[\"prodotti\"][codice][\"quantita\"] = quantita\n",
    "        print(f\"Prodotto con codice {codice} aggiornato con successo!\")\n",
    "    else:\n",
    "        print(f\"Prodotto con codice {codice} non trovato.\")\n",
    "\n",
    "# Funzione per eliminare un prodotto dall'inventario\n",
    "def elimina_prodotto(inventario, codice):\n",
    "    if codice in inventario[\"prodotti\"]:\n",
    "        del inventario[\"prodotti\"][codice]\n",
    "        print(f\"Prodotto con codice {codice} eliminato con successo!\")\n",
    "    else:\n",
    "        print(f\"Prodotto con codice {codice} non trovato.\")\n",
    "\n",
    "# Funzione per visualizzare i prodotti per categoria\n",
    "def visualizza_prodotti_per_categoria(inventario, categoria):\n",
    "    trovati = [dettagli for codice, dettagli in inventario[\"prodotti\"].items() if categoria.lower() in dettagli[\"categoria\"].lower()]\n",
    "    if trovati:\n",
    "        for dettagli in trovati:\n",
    "            print(f\"Nome: {dettagli['nome']}\")\n",
    "            print(f\"Categoria: {dettagli['categoria']}\")\n",
    "            print(f\"Prezzo: €{dettagli['prezzo']:.2f}\")\n",
    "            print(f\"Quantità: {dettagli['quantita']}\")\n",
    "            print(\"-\" * 20)\n",
    "    else:\n",
    "        print(f\"Nessun prodotto trovato nella categoria '{categoria}'.\")\n",
    "\n",
    "# Esempi di utilizzo\n",
    "\n",
    "# Aggiungi prodotti all'inventario\n",
    "aggiungi_prodotto(inventario, \"001\", \"Laptop\", \"Elettronica\", 999.99, 10)\n",
    "aggiungi_prodotto(inventario, \"002\", \"Smartphone\", \"Elettronica\", 699.99, 20)\n",
    "aggiungi_prodotto(inventario, \"003\", \"Tavolo\", \"Arredamento\", 149.99, 5)\n",
    "\n",
    "# Visualizza tutti i prodotti\n",
    "print(\"\\nTutti i prodotti:\")\n",
    "visualizza_tutti_prodotti(inventario)\n",
    "\n",
    "# Cerca prodotto per nome\n",
    "print(\"\\nCerca prodotto per nome 'Laptop':\")\n",
    "cerca_prodotto_per_nome(inventario, \"Laptop\")\n",
    "\n",
    "# Modifica le informazioni di un prodotto\n",
    "print(\"\\nModifica prodotto con codice '001':\")\n",
    "modifica_prodotto(inventario, \"001\", prezzo=899.99, quantita=8)\n",
    "\n",
    "# Visualizza tutti i prodotti dopo la modifica\n",
    "print(\"\\nTutti i prodotti dopo la modifica:\")\n",
    "visualizza_tutti_prodotti(inventario)\n",
    "\n",
    "# Elimina un prodotto\n",
    "print(\"\\nElimina prodotto con codice '002':\")\n",
    "elimina_prodotto(inventario, \"002\")\n",
    "\n",
    "# Visualizza tutti i prodotti dopo l'eliminazione\n",
    "print(\"\\nTutti i prodotti dopo l'eliminazione:\")\n",
    "visualizza_tutti_prodotti(inventario)\n",
    "\n",
    "# Visualizza prodotti per categoria\n",
    "print(\"\\nVisualizza prodotti per categoria 'Elettronica':\")\n",
    "visualizza_prodotti_per_categoria(inventario, \"Elettronica\")"
   ]
  }
 ],
 "metadata": {
  "kernelspec": {
   "display_name": "Python 3 (ipykernel)",
   "language": "python",
   "name": "python3"
  },
  "language_info": {
   "codemirror_mode": {
    "name": "ipython",
    "version": 3
   },
   "file_extension": ".py",
   "mimetype": "text/x-python",
   "name": "python",
   "nbconvert_exporter": "python",
   "pygments_lexer": "ipython3",
   "version": "3.12.3"
  }
 },
 "nbformat": 4,
 "nbformat_minor": 5
}
